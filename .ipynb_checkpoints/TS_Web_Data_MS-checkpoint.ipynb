{
 "cells": [
  {
   "cell_type": "markdown",
   "metadata": {},
   "source": [
    "![title](DEP_LOGO_2.jpg)"
   ]
  },
  {
   "cell_type": "markdown",
   "metadata": {},
   "source": [
    "# Trend Station Water Quality Data \n",
    "## Web Application Demo - Multi-Station"
   ]
  },
  {
   "cell_type": "code",
   "execution_count": 1,
   "metadata": {},
   "outputs": [],
   "source": [
    "#HIDDEN\n",
    "\n",
    "import numpy as np\n",
    "import ipywidgets as widgets\n",
    "from ipywidgets import interact\n",
    "from ipywidgets import interactive\n",
    "import pandas as pd\n",
    "import csv\n",
    "from geopy.geocoders import Nominatim\n",
    "from time import sleep\n",
    "import folium\n",
    "import matplotlib\n",
    "import matplotlib.cm as cm\n",
    "import matplotlib.colors as colors\n",
    "import matplotlib.pyplot as plt\n",
    "from folium.plugins import MarkerCluster\n",
    "import seaborn as sns\n",
    "from scipy import stats\n",
    "from scipy.stats import linregress\n",
    "from arcgis.gis import GIS\n",
    "import geopandas as gpd\n",
    "\n",
    "pd.set_option('display.max_columns', 50)\n",
    "pd.set_option('display.max_rows', 3000)"
   ]
  },
  {
   "cell_type": "markdown",
   "metadata": {},
   "source": [
    "[Link to New WVDEP Trend Station Map](https://bonnerjf33.maps.arcgis.com/apps/webappviewer/index.html?id=dc634873ef5e4275b7120482e93a080c)"
   ]
  },
  {
   "cell_type": "code",
   "execution_count": 2,
   "metadata": {
    "scrolled": false
   },
   "outputs": [
    {
     "data": {
      "text/html": [
       "<iframe src=https://bonnerjf33.maps.arcgis.com/apps/webappviewer/index.html?id=dc634873ef5e4275b7120482e93a080c width=990 height=1000 frameborder=1></iframe>"
      ],
      "text/plain": [
       "<IPython.core.display.HTML object>"
      ]
     },
     "execution_count": 2,
     "metadata": {},
     "output_type": "execute_result"
    }
   ],
   "source": [
    "#HIDDEN\n",
    "\n",
    "#Filter Warnings!\n",
    "import warnings\n",
    "warnings.filterwarnings(\"ignore\")\n",
    "\n",
    "# Display the associated webpage in a new window\n",
    "import IPython\n",
    "url = 'https://bonnerjf33.maps.arcgis.com/apps/webappviewer/index.html?id=dc634873ef5e4275b7120482e93a080c'\n",
    "iframe = '<iframe src=' + url + ' width=990 height=1000 frameborder=1></iframe>'\n",
    "IPython.display.HTML(iframe)"
   ]
  },
  {
   "cell_type": "markdown",
   "metadata": {},
   "source": [
    "## Select Trend Station:"
   ]
  },
  {
   "cell_type": "code",
   "execution_count": 3,
   "metadata": {},
   "outputs": [
    {
     "data": {
      "application/vnd.jupyter.widget-view+json": {
       "model_id": "4a0f46f02271435992bc838e7e7a724e",
       "version_major": 2,
       "version_minor": 0
      },
      "text/plain": [
       "Dropdown(description='Trend Station', options=('TS001', 'TS002', 'TS003', 'TS004', 'TS005', 'TS006', 'TS007', …"
      ]
     },
     "metadata": {},
     "output_type": "display_data"
    }
   ],
   "source": [
    "#HIDDEN\n",
    "\n",
    "def unique_sorted_values(array):\n",
    "    unique = array.unique().tolist()\n",
    "    unique.sort()\n",
    "    return unique\n",
    "\n",
    "df_comb = pd.read_csv('TS_New_Combined_Final.csv')\n",
    "df_comb = df_comb.fillna(0)\n",
    "\n",
    "dfhead = pd.read_csv('TS_Locations_Actual.csv')\n",
    "dfhead = dfhead.fillna(0)\n",
    "dfheadloc = dfhead[dfhead.latitude != 0]\n",
    "\n",
    "output_two = widgets.Output()\n",
    "output_three = widgets.Output()\n",
    "output_four = widgets.Output()\n",
    "output_five = widgets.Output()\n",
    "output_six = widgets.Output()\n",
    "plot1_output = widgets.Output()\n",
    "plot_output = widgets.Output()\n",
    "\n",
    "style = {'description_width': 'initial'}\n",
    "dropdown_stations = widgets.Dropdown(options = unique_sorted_values(df_comb.station_id), description='Trend Station', style=style)\n",
    "\n",
    "def common_filtering1(station):\n",
    "    \n",
    "    output_two.clear_output()\n",
    "    output_three.clear_output()\n",
    "    output_four.clear_output()\n",
    "    output_five.clear_output()\n",
    "    output_six.clear_output()\n",
    "    #plot_output.clear_output()-OUTPUT USED ELSEWHERE!!!\n",
    "    \n",
    "    df_comb = pd.read_csv('TS_New_Combined_Final.csv')\n",
    "    df_comb = df_comb.fillna(0)\n",
    "    \n",
    "    common_filter1 = df_comb[(df_comb.station_id == station)]\n",
    "    \n",
    "    global ts\n",
    "    ts = dropdown_stations.value\n",
    "    \n",
    "    df_comb = df_comb[df_comb['station_id'].str.contains(str(ts), na=False)]\n",
    "        \n",
    "    group = df_comb.groupby('param_name')\n",
    "    df2 = pd.DataFrame(group.apply(lambda x: x['test_batch_id'].unique()))\n",
    "\n",
    "    df2.reset_index(inplace=True)\n",
    "    df2 = df2.rename({0: 'DATES'}, axis='columns')\n",
    "\n",
    "    dates = df2[df2.param_name == 'LAB CONDUCTIVITY'].DATES.item()\n",
    "\n",
    "    initial_date = dates[0]\n",
    "    \n",
    "    df_comb_date = common_filter1\n",
    "    df_comb_date = df_comb_date[df_comb_date['test_batch_id'] == initial_date]\n",
    "    df_comb_date = df_comb_date.drop(['station_id', 'sample_id', 'result_unit', 'test_batch_id'], axis=1)\n",
    "    df_comb_date = df_comb_date.set_index('param_name').transpose()\n",
    "\n",
    "    #df_comb_date = df_comb_date.astype('float')-THIS WAS NOT WORKING!!!! UNNECESSARY!!!\n",
    "    #df_comb_date.columns = ['FIELD ph', 'FIELD CONDUCTIVITY','TEMPERATURE','FLOW', 'LAB CONDUCTIVITY', 'SULFATE', 'DISSOLVED SOLIDS', 'SUSPENDED SOLIDS', 'LAB ph', 'ALKALINITY', 'HOT ACIDITY', 'MINERAL ACIDITY', 'IRON_D', 'MANGANESE_D', 'ALUMINUM_D', 'IRON_T', 'MANGANESE_T', 'ALUMINUM_T', 'ANTIMONY', 'ARSENIC', 'BERYLLIUM', 'CADMIUM', 'CHROMIUM', 'COPPER', 'LEAD', 'MERCURY', 'NICKEL', 'SELENIUM', 'SILVER', 'THALLIUM', 'ZINC', 'CYANIDE', 'PHENOLS', 'NITRATE', 'SODIUM', 'CALCIUM', 'MAGNESIUM', 'POTASSIUM', 'BI-CARBONATE', 'CARBONATE', 'PHOSPHATE']\n",
    "\n",
    "    global df_comb_concat\n",
    "    df_comb_concat = []\n",
    "    df_comb_concat = pd.concat([df_comb_date], axis=0, sort=False)\n",
    "\n",
    "    as_list = df_comb_concat.index.tolist()\n",
    "    idx = as_list.index('result_value')\n",
    "    as_list[idx] = initial_date\n",
    "    df_comb_concat.index = as_list\n",
    "\n",
    "    for i, date in enumerate(dates):\n",
    "    \n",
    "        df_comb_date = common_filter1\n",
    "        df_comb_date = df_comb_date[df_comb_date['test_batch_id'] == dates[i]]\n",
    "        df_comb_date = df_comb_date.drop(['station_id', 'sample_id', 'result_unit', 'test_batch_id'], axis=1)\n",
    "        df_comb_date = df_comb_date.set_index('param_name').transpose()\n",
    "    \n",
    "        #df_comb_date = df_comb_date.astype('float')-THIS WAS NOT WORKING!!!! UNNECESSARY!!!\n",
    "\n",
    "        #df_comb_date.columns = ['FIELD ph', 'FIELD CONDUCTIVITY','TEMPERATURE','FLOW', 'LAB CONDUCTIVITY', 'SULFATE', 'DISSOLVED SOLIDS', 'SUSPENDED SOLIDS', 'LAB pH', 'ALKALINITY', 'HOT ACIDITY', 'MINERAL ACIDITY', 'IRON_D', 'MANGANESE_D', 'ALUMINUM_D', 'IRON_T', 'MANGANESE_T', 'ALUMINUM_T', 'ANTIMONY', 'ARSENIC', 'BERYLLIUM', 'CADMIUM', 'CHROMIUM', 'COPPER', 'LEAD', 'MERCURY', 'NICKEL', 'SELENIUM', 'SILVER', 'THALLIUM', 'ZINC', 'CYANIDE', 'PHENOLS', 'NITRATE', 'SODIUM', 'CALCIUM', 'MAGNESIUM', 'POTASSIUM', 'BI-CARBONATE', 'CARBONATE', 'PHOSPHATE']\n",
    "    \n",
    "        df_comb_concat = pd.concat([df_comb_concat, df_comb_date], axis=0, sort=False)\n",
    "    \n",
    "        as_list = df_comb_concat.index.tolist()\n",
    "        idx = as_list.index('result_value')\n",
    "        as_list[idx] = dates[i]\n",
    "        df_comb_concat.index = as_list\n",
    "\n",
    "        df_comb_concat.index.name = str(dropdown_stations.value)\n",
    "        \n",
    "    #df_comb_concat = df_comb_concat.fillna(0)\n",
    "    \n",
    "    #df_comb_concat = df_comb_concat.loc[:, (df_comb_date != 0).any(axis=0)]-THIS WAS DELETING COLUMNS WITH ANY ZERO VALUES!!!\n",
    "\n",
    "    df_comb_concat.index = pd.to_datetime(df_comb_concat.index)\n",
    "\n",
    "    df_comb_concat = df_comb_concat.iloc[1:]\n",
    "    \n",
    "    #global df_comb_concat_old\n",
    "    df_comb_concat_old = pd.read_csv('TS_Old_Final/' + ts + '_Old_Combined_Final.csv')\n",
    "    df_comb_concat_old.set_index(str(ts), inplace=True)\n",
    "    df_comb_concat_old.index = pd.to_datetime(df_comb_concat_old.index)\n",
    "    df_comb_concat_old.columns = ['FIELD ph', 'FIELD CONDUCTIVITY', 'TEMPERATURE', 'FIELD DISSOLVED OXYGEN', 'FLOW', 'LAB CONDUCTIVITY', 'SULFATE', 'DISSOLVED SOLIDS', 'SUSPENDED SOLIDS', 'LAB pH', 'ALKALINITY', 'HOT ACIDITY', 'MINERAL ACIDITY', 'IRON_D', 'MANGANESE_D', 'ALUMINUM_D', 'IRON_T', 'MANGANESE_T', 'ALUMINUM_T']\n",
    "    df_comb_concat_old.replace('', 0, inplace=True)\n",
    "    df_comb_concat_old.replace('FROZEN', 0, inplace=True)\n",
    "    df_comb_concat_old['FLOW'].fillna(0, inplace=True)\n",
    "    df_comb_concat_old['FLOW'] = df_comb_concat_old['FLOW'].astype('float')\n",
    "    pd.to_numeric(df_comb_concat_old['FLOW'])\n",
    "    \n",
    "    df_comb_concat = pd.concat([df_comb_concat_old, df_comb_concat], axis=0, sort=False)\n",
    "      \n",
    "    #global dfdesc\n",
    "    #dfdesc = df_comb_concat.describe()\n",
    "    #dfdesc.index.name = str(ts)\n",
    "\n",
    "    #global dfcorr\n",
    "    #dfcorr = df_comb_concat.corr()\n",
    "    #dfcorr = dfcorr.dropna(axis=0, how='all') #Resolves problem from above step\n",
    "    #dfcorr = dfcorr.dropna(axis=1, how='all') #Resolves problem from above step\n",
    "    #dfcorr.index.name = str(ts)\n",
    "    \n",
    "    global common_filter\n",
    "    common_filter = dfheadloc[(dfheadloc.station_id == station)]    \n",
    "    \n",
    "    with output_two:\n",
    "        display(common_filter)\n",
    "    \n",
    "    with output_three:\n",
    "        display(common_filter1)\n",
    "        \n",
    "    #with output_four:\n",
    "        #display(df_comb_concat)\n",
    "    \n",
    "    #with output_five:\n",
    "        #display(dfdesc)\n",
    "        \n",
    "    with output_six:\n",
    "        display(dfcorr)\n",
    "              \n",
    "def dropdown_stations_eventhandler(change):\n",
    "    common_filtering1(change.new)\n",
    "    \n",
    "dropdown_stations.observe(dropdown_stations_eventhandler, names='value')  \n",
    "  \n",
    "display(dropdown_stations)"
   ]
  },
  {
   "cell_type": "markdown",
   "metadata": {},
   "source": [
    "## Trend Station Location Information:"
   ]
  },
  {
   "cell_type": "code",
   "execution_count": 4,
   "metadata": {},
   "outputs": [
    {
     "data": {
      "application/vnd.jupyter.widget-view+json": {
       "model_id": "8077e0b4e9394b469835d8e208de81fb",
       "version_major": 2,
       "version_minor": 0
      },
      "text/plain": [
       "Output()"
      ]
     },
     "metadata": {},
     "output_type": "display_data"
    }
   ],
   "source": [
    "#HIDDEN\n",
    "\n",
    "display(output_two)"
   ]
  },
  {
   "cell_type": "markdown",
   "metadata": {},
   "source": [
    "## Water Quality Data Plots:"
   ]
  },
  {
   "cell_type": "code",
   "execution_count": 5,
   "metadata": {
    "scrolled": false
   },
   "outputs": [
    {
     "data": {
      "application/vnd.jupyter.widget-view+json": {
       "model_id": "7cbabb4380794f90a747daca1666ec63",
       "version_major": 2,
       "version_minor": 0
      },
      "text/plain": [
       "Dropdown(description='Parameter 1', options=('ALKALINITY', 'ALUMINUM_D', 'ALUMINUM_T', 'ANTIMONY', 'ARSENIC', …"
      ]
     },
     "metadata": {},
     "output_type": "display_data"
    },
    {
     "data": {
      "application/vnd.jupyter.widget-view+json": {
       "model_id": "84e344bd53a34a07a46f11d1a3f0b10c",
       "version_major": 2,
       "version_minor": 0
      },
      "text/plain": [
       "Dropdown(description='Parameter 2', options=('NONE', 'ALKALINITY', 'ALUMINUM_D', 'ALUMINUM_T', 'ANTIMONY', 'AR…"
      ]
     },
     "metadata": {},
     "output_type": "display_data"
    },
    {
     "data": {
      "application/vnd.jupyter.widget-view+json": {
       "model_id": "06e205730a43476abeaa4fbfe2b5180d",
       "version_major": 2,
       "version_minor": 0
      },
      "text/plain": [
       "IntRangeSlider(value=(15, 18), continuous_update=False, description='Data Range: (Total: 2002 to 2018, Default…"
      ]
     },
     "metadata": {},
     "output_type": "display_data"
    },
    {
     "data": {
      "application/vnd.jupyter.widget-view+json": {
       "model_id": "c052217ee3d148148cb2559e24825b73",
       "version_major": 2,
       "version_minor": 0
      },
      "text/plain": [
       "Button(description='Display/Update Plot', style=ButtonStyle())"
      ]
     },
     "metadata": {},
     "output_type": "display_data"
    }
   ],
   "source": [
    "#HIDDEN\n",
    "\n",
    "def unique_sorted_values_plus_none(array):\n",
    "    unique = array.unique().tolist()\n",
    "    unique.sort()\n",
    "    unique.insert(0, 'NONE')\n",
    "    return unique\n",
    "\n",
    "labels=pd.Series(['FIELD ph', 'FIELD CONDUCTIVITY','TEMPERATURE','FLOW', 'LAB CONDUCTIVITY', 'SULFATE', 'DISSOLVED SOLIDS', 'SUSPENDED SOLIDS', 'LAB pH', 'ALKALINITY', 'HOT ACIDITY', 'MINERAL ACIDITY', 'IRON_D', 'MANGANESE_D', 'ALUMINUM_D', 'IRON_T', 'MANGANESE_T', 'ALUMINUM_T', 'ANTIMONY', 'ARSENIC', 'BERYLLIUM', 'CADMIUM', 'CHROMIUM', 'COPPER', 'LEAD', 'MERCURY', 'NICKEL', 'SELENIUM', 'SILVER', 'THALLIUM', 'ZINC', 'CYANIDE', 'PHENOLS', 'NITRATE', 'SODIUM', 'CALCIUM', 'MAGNESIUM', 'POTASSIUM', 'BI-CARBONATE', 'CARBONATE', 'PHOSPHATE'])\n",
    "\n",
    "dropdown_param = widgets.Dropdown(options = unique_sorted_values(labels), description='Parameter 1')\n",
    "dropdown_param3 = widgets.Dropdown(options = unique_sorted_values_plus_none(labels), description='Parameter 2')\n",
    "button1 = widgets.Button(description='Display/Update Plot')\n",
    "\n",
    "style = {'description_width': 'initial'}\n",
    "\n",
    "year_slider = widgets.IntRangeSlider(value=[15, 18],min=2,max=18,step=1,layout=widgets.Layout(width='60%', height='20px'),description='Data Range: (Total: 2002 to 2018, Default: 2015 to 2018)',style=style,disabled=False,continuous_update=False,orientation='horizontal',readout=True,readout_format='d')\n",
    "\n",
    "plot1_output = widgets.Output()\n",
    "\n",
    "def on_button_click(param, param3, year1, year2):\n",
    "        plot1_output.clear_output()\n",
    "        box2.value = False\n",
    "        box3.value = False\n",
    "        box4.value = False\n",
    "        global df_comb_concat_filt\n",
    "        with plot1_output:\n",
    "            if param not in df_comb_concat.columns:\n",
    "                print('NO DATA EXISTS FOR THE CHOSEN STATION/PARAMETER COMBINATION! PLEASE SELECT ANOTHER PARAMETER.')\n",
    "    \n",
    "            elif param3 == 'NONE' and param in df_comb_concat.columns:\n",
    "                year1 = 2000 + int(year_slider.value[0])\n",
    "                year2 = 2000 + int(year_slider.value[1])\n",
    "                plt.figure(figsize=(20,8));\n",
    "                df_comb_concat_filt = df_comb_concat[str(year1):str(year2)]\n",
    "                plt.plot(df_comb_concat_filt[param], 'go--', linewidth=1, markersize=6);\n",
    "                plt.grid();\n",
    "                color1 = 'tab:green'\n",
    "                plt.tick_params(axis='y', labelcolor=color1)\n",
    "                plt.ylabel(param, fontsize=15, color=color1);\n",
    "                plt.xlabel('Date', fontsize=15);\n",
    "                plt.title(str(ts), fontsize=25);\n",
    "                plt.show();\n",
    "                \n",
    "            \n",
    "            elif param in df_comb_concat and param3 not in df_comb_concat.columns:\n",
    "                year1 = 2000 + int(year_slider.value[0])\n",
    "                year2 = 2000 + int(year_slider.value[1])\n",
    "                plt.figure(figsize=(20,8));\n",
    "                df_comb_concat_filt = df_comb_concat[str(year1):str(year2)]\n",
    "                plt.plot(df_comb_concat_filt[param], 'go--', linewidth=1, markersize=6);\n",
    "                plt.grid();\n",
    "                color1 = 'tab:green'\n",
    "                plt.tick_params(axis='y', labelcolor=color1)\n",
    "                plt.ylabel(param, fontsize=15, color=color1);\n",
    "                plt.xlabel('Date', fontsize=15);\n",
    "                plt.title(str(ts), fontsize=25);\n",
    "                plt.show();\n",
    "                print('NO DATA EXISTS FOR THE SECOND SELECTED PARAMETER! PLEASE SELECT ANOTHER PARAMETER.')\n",
    "                \n",
    "            \n",
    "            else:\n",
    "                year1 = 2000 + int(year_slider.value[0])\n",
    "                year2 = 2000 + int(year_slider.value[1])\n",
    "                plt.figure(figsize=(20,8));\n",
    "                df_comb_concat_filt = df_comb_concat[str(year1):str(year2)]\n",
    "                plt.plot(df_comb_concat_filt[param], 'go--', linewidth=1, markersize=6);\n",
    "                plt.grid();\n",
    "                color1 = 'tab:green'\n",
    "                plt.tick_params(axis='y', labelcolor=color1)\n",
    "                plt.ylabel(param, fontsize=15, color=color1);\n",
    "                plt.ylabel(param, fontsize=15);\n",
    "                plt.xlabel('Date', fontsize=15);\n",
    "                plt.title(str(ts), fontsize=25);\n",
    "                ax2 = plt.twinx()  # instantiate a second axes that shares the same x-axis\n",
    "                color = 'tab:blue'\n",
    "                ax2.set_ylabel(param3, color=color, fontsize=15)  \n",
    "                ax2.plot(df_comb_concat_filt[param3], 'bo--', linewidth=1, markersize=6, color=color)\n",
    "                ax2.tick_params(axis='y', labelcolor=color)\n",
    "                plt.show();\n",
    "                \n",
    "        \n",
    "def button1_eventhandler(change):\n",
    "    on_button_click(dropdown_param.value, dropdown_param3.value, year_slider.value[0], year_slider.value[1])\n",
    "\n",
    "button1.on_click(button1_eventhandler)\n",
    "\n",
    "\n",
    "def drop_eventhandler2(change):\n",
    "    plot1_output.clear_output()\n",
    "    \n",
    "dropdown_stations.observe(drop_eventhandler2, names='value')\n",
    "\n",
    "display(dropdown_param)\n",
    "display(dropdown_param3)\n",
    "display(year_slider)\n",
    "display(button1)"
   ]
  },
  {
   "cell_type": "code",
   "execution_count": 6,
   "metadata": {
    "scrolled": false
   },
   "outputs": [
    {
     "data": {
      "application/vnd.jupyter.widget-view+json": {
       "model_id": "80c0177fa691435283d14f413576c745",
       "version_major": 2,
       "version_minor": 0
      },
      "text/plain": [
       "Output()"
      ]
     },
     "metadata": {},
     "output_type": "display_data"
    }
   ],
   "source": [
    "#HIDDEN\n",
    "\n",
    "from pandas.plotting import register_matplotlib_converters\n",
    "register_matplotlib_converters()\n",
    "\n",
    "display(plot1_output)"
   ]
  },
  {
   "cell_type": "markdown",
   "metadata": {},
   "source": [
    "## Water Quality Data:"
   ]
  },
  {
   "cell_type": "code",
   "execution_count": 7,
   "metadata": {},
   "outputs": [
    {
     "data": {
      "application/vnd.jupyter.widget-view+json": {
       "model_id": "e7c7a2e4ba2c42bfb324016feab9fddb",
       "version_major": 2,
       "version_minor": 0
      },
      "text/plain": [
       "Checkbox(value=False, description='Display Water Quality Data')"
      ]
     },
     "metadata": {},
     "output_type": "display_data"
    },
    {
     "data": {
      "application/vnd.jupyter.widget-view+json": {
       "model_id": "15c693a0b60141e0be0a78f71b982142",
       "version_major": 2,
       "version_minor": 0
      },
      "text/plain": [
       "Output()"
      ]
     },
     "metadata": {},
     "output_type": "display_data"
    }
   ],
   "source": [
    "#HIDDEN\n",
    "\n",
    "box2 = widgets.Checkbox(False, description='Display Water Quality Data')\n",
    "\n",
    "data_output = widgets.Output()\n",
    "\n",
    "def changed1(ts, c):\n",
    "    data_output.clear_output()\n",
    "    with data_output:\n",
    "        if c==True:\n",
    "            display(df_comb_concat_filt)\n",
    "        else:\n",
    "            data_output.clear_output()\n",
    "\n",
    "def checkbox_eventhandler(change):\n",
    "    changed1(dropdown_stations.value, change.new)\n",
    "\n",
    "def checkbox_eventhandler2(change):\n",
    "    box2.value = False\n",
    "    data_output.clear_output()\n",
    "    \n",
    "box2.observe(checkbox_eventhandler, names='value')\n",
    "dropdown_stations.observe(checkbox_eventhandler2, names='value')\n",
    "\n",
    "display(box2)\n",
    "display(data_output)"
   ]
  },
  {
   "cell_type": "markdown",
   "metadata": {},
   "source": [
    "## Water Quality Statistics:"
   ]
  },
  {
   "cell_type": "code",
   "execution_count": 8,
   "metadata": {},
   "outputs": [
    {
     "data": {
      "application/vnd.jupyter.widget-view+json": {
       "model_id": "3e2b09eb559641079b8e24e576ade717",
       "version_major": 2,
       "version_minor": 0
      },
      "text/plain": [
       "Checkbox(value=False, description='Display Water Quality Statistics')"
      ]
     },
     "metadata": {},
     "output_type": "display_data"
    },
    {
     "data": {
      "application/vnd.jupyter.widget-view+json": {
       "model_id": "f3547a5920924e3a872f4a645bfc5523",
       "version_major": 2,
       "version_minor": 0
      },
      "text/plain": [
       "Output()"
      ]
     },
     "metadata": {},
     "output_type": "display_data"
    }
   ],
   "source": [
    "#HIDDEN\n",
    "\n",
    "box3 = widgets.Checkbox(False, description='Display Water Quality Statistics')\n",
    "\n",
    "data1_output = widgets.Output()\n",
    "\n",
    "def changed2(ts, d):\n",
    "    data1_output.clear_output()\n",
    "    with data1_output:\n",
    "        if d==True:\n",
    "            global dfdesc\n",
    "            dfdesc = df_comb_concat_filt.describe()\n",
    "            dfdesc.index.name = str(ts)\n",
    "            display(dfdesc)\n",
    "        else:\n",
    "            data1_output.clear_output()\n",
    "\n",
    "def checkbox_eventhandler(change):\n",
    "    changed2(dropdown_stations.value, change.new)\n",
    "\n",
    "def checkbox_eventhandler2(change):\n",
    "    box3.value = False\n",
    "    data1_output.clear_output()\n",
    "\n",
    "box3.observe(checkbox_eventhandler, names='value')\n",
    "dropdown_stations.observe(checkbox_eventhandler2, names='value')\n",
    "\n",
    "\n",
    "display(box3)\n",
    "display(data1_output)"
   ]
  },
  {
   "cell_type": "markdown",
   "metadata": {},
   "source": [
    "## Water Quality Parameter Correlation:"
   ]
  },
  {
   "cell_type": "code",
   "execution_count": 9,
   "metadata": {},
   "outputs": [
    {
     "data": {
      "application/vnd.jupyter.widget-view+json": {
       "model_id": "11d91a5653f847248f07a73903abda93",
       "version_major": 2,
       "version_minor": 0
      },
      "text/plain": [
       "Checkbox(value=False, description='Display Pearson R Values')"
      ]
     },
     "metadata": {},
     "output_type": "display_data"
    },
    {
     "data": {
      "application/vnd.jupyter.widget-view+json": {
       "model_id": "14a37d3182f448e3af27d466c55af008",
       "version_major": 2,
       "version_minor": 0
      },
      "text/plain": [
       "Output()"
      ]
     },
     "metadata": {},
     "output_type": "display_data"
    }
   ],
   "source": [
    "#HIDDEN\n",
    "\n",
    "box4 = widgets.Checkbox(False, description='Display Pearson R Values')\n",
    "\n",
    "data2_output = widgets.Output()\n",
    "\n",
    "def changed3(ts, e):\n",
    "    data2_output.clear_output()\n",
    "    with data2_output:\n",
    "        if e==True:\n",
    "            global dfcorr\n",
    "            dfcorr = df_comb_concat_filt.corr()\n",
    "            dfcorr = dfcorr.dropna(axis=0, how='all') #Resolves problem from above step\n",
    "            dfcorr = dfcorr.dropna(axis=1, how='all') #Resolves problem from above step\n",
    "            dfcorr.index.name = str(ts)\n",
    "            display(dfcorr)\n",
    "        else:\n",
    "            data2_output.clear_output()\n",
    "\n",
    "def checkbox_eventhandler(change):\n",
    "    changed3(dropdown_stations.value, change.new)\n",
    "\n",
    "def checkbox_eventhandler2(change):\n",
    "    box4.value = False\n",
    "    data2_output.clear_output()\n",
    "    \n",
    "box4.observe(checkbox_eventhandler, names='value')\n",
    "dropdown_stations.observe(checkbox_eventhandler2, names='value')\n",
    "\n",
    "display(box4)\n",
    "display(data2_output)"
   ]
  },
  {
   "cell_type": "markdown",
   "metadata": {},
   "source": [
    "## Water Quality Parameter Comparison by Linear Regression:"
   ]
  },
  {
   "cell_type": "code",
   "execution_count": 10,
   "metadata": {
    "scrolled": false
   },
   "outputs": [
    {
     "data": {
      "application/vnd.jupyter.widget-view+json": {
       "model_id": "0f1120db12f0404f9d6c79614d1bb94d",
       "version_major": 2,
       "version_minor": 0
      },
      "text/plain": [
       "Dropdown(description='Parameter: X', options=('ALKALINITY', 'ALUMINUM_D', 'ALUMINUM_T', 'ANTIMONY', 'ARSENIC',…"
      ]
     },
     "metadata": {},
     "output_type": "display_data"
    },
    {
     "data": {
      "application/vnd.jupyter.widget-view+json": {
       "model_id": "d29bc2dae9064221bcfa1cf849498456",
       "version_major": 2,
       "version_minor": 0
      },
      "text/plain": [
       "Dropdown(description='Parameter: Y', options=('ALKALINITY', 'ALUMINUM_D', 'ALUMINUM_T', 'ANTIMONY', 'ARSENIC',…"
      ]
     },
     "metadata": {},
     "output_type": "display_data"
    },
    {
     "data": {
      "application/vnd.jupyter.widget-view+json": {
       "model_id": "9a932493e83942e38cbcb2b978467b07",
       "version_major": 2,
       "version_minor": 0
      },
      "text/plain": [
       "Button(description='Display/Update Plot', style=ButtonStyle())"
      ]
     },
     "metadata": {},
     "output_type": "display_data"
    }
   ],
   "source": [
    "#HIDDEN\n",
    "\n",
    "labels=pd.Series(['FIELD ph', 'FIELD CONDUCTIVITY','TEMPERATURE','FLOW', 'LAB CONDUCTIVITY', 'SULFATE', 'DISSOLVED SOLIDS', 'SUSPENDED SOLIDS', 'LAB pH', 'ALKALINITY', 'HOT ACIDITY', 'MINERAL ACIDITY', 'IRON_D', 'MANGANESE_D', 'ALUMINUM_D', 'IRON_T', 'MANGANESE_T', 'ALUMINUM_T', 'ANTIMONY', 'ARSENIC', 'BERYLLIUM', 'CADMIUM', 'CHROMIUM', 'COPPER', 'LEAD', 'MERCURY', 'NICKEL', 'SELENIUM', 'SILVER', 'THALLIUM', 'ZINC', 'CYANIDE', 'PHENOLS', 'NITRATE', 'SODIUM', 'CALCIUM', 'MAGNESIUM', 'POTASSIUM', 'BI-CARBONATE', 'CARBONATE', 'PHOSPHATE'])\n",
    "\n",
    "dropdown_param1 = widgets.Dropdown(options = unique_sorted_values(labels), description='Parameter: X')\n",
    "dropdown_param2 = widgets.Dropdown(options = unique_sorted_values(labels), description='Parameter: Y')\n",
    "button2 = widgets.Button(description='Display/Update Plot')\n",
    "\n",
    "plot2_output = widgets.Output()\n",
    "\n",
    "def on_button_click2(param1, param2):\n",
    "    plot2_output.clear_output()\n",
    "    \n",
    "    with plot2_output: \n",
    "        \n",
    "        if param1 not in df_comb_concat_filt.columns:\n",
    "            print('NO DATA EXISTS FOR THE CHOSEN STATION/PARAMETER COMBINATION! PLEASE SELECT ANOTHER PARAMETER.')\n",
    "        elif param2 not in df_comb_concat.columns:\n",
    "            print('NO DATA EXISTS FOR THE CHOSEN STATION/PARAMETER COMBINATION! PLEASE SELECT ANOTHER PARAMETER.')\n",
    "        else:\n",
    "            width = 20;\n",
    "            height = 8;\n",
    "            plt.figure(figsize=(width, height));\n",
    "            plt.ylabel(param2, fontsize=15);\n",
    "            plt.xlabel(param1, fontsize=15);\n",
    "            sns.regplot(df_comb_concat_filt[param1], df_comb_concat_filt[param2], color='green').set_title(ts, fontsize=20);\n",
    "            plt.show()\n",
    "            #pearson_coef, p_value = stats.pearsonr(df_comb_concat[param1], df_comb_concat[param2]) \n",
    "            \n",
    "            #stats.pearsonr(df_comb_concat[param1], df_comb_concat[param2]);\n",
    "            \n",
    "            #print(\"The Pearson Correlation Coefficient is\", pearson_coef, \" with a p-value of\", p_value, \" for parameters\", param1, \"(X) and\", param2, \"(Y)\");  \n",
    "            \n",
    "def button4_eventhandler(change):\n",
    "    plot2_output.clear_output()\n",
    "\n",
    "button1.on_click(button4_eventhandler)\n",
    "\n",
    "def button2_eventhandler(change):\n",
    "    on_button_click2(dropdown_param1.value, dropdown_param2.value)\n",
    "\n",
    "button2.on_click(button2_eventhandler)\n",
    "\n",
    "def drop_eventhandler3(change):\n",
    "    plot2_output.clear_output()\n",
    "    \n",
    "dropdown_stations.observe(drop_eventhandler3, names='value')\n",
    "\n",
    "display(dropdown_param1)\n",
    "display(dropdown_param2)\n",
    "display(button2)"
   ]
  },
  {
   "cell_type": "code",
   "execution_count": 11,
   "metadata": {},
   "outputs": [
    {
     "data": {
      "application/vnd.jupyter.widget-view+json": {
       "model_id": "a90625e5fd92499bbc3f2fef55781c76",
       "version_major": 2,
       "version_minor": 0
      },
      "text/plain": [
       "Output()"
      ]
     },
     "metadata": {},
     "output_type": "display_data"
    }
   ],
   "source": [
    "#HIDDEN\n",
    "\n",
    "display(plot2_output)"
   ]
  },
  {
   "cell_type": "markdown",
   "metadata": {},
   "source": [
    "## Select Second Trend Station:"
   ]
  },
  {
   "cell_type": "code",
   "execution_count": 12,
   "metadata": {},
   "outputs": [
    {
     "data": {
      "application/vnd.jupyter.widget-view+json": {
       "model_id": "f2ccc59a45874e3ab5bd42803c05d7ad",
       "version_major": 2,
       "version_minor": 0
      },
      "text/plain": [
       "Dropdown(description='Additional Trend Station', options=('TS001', 'TS002', 'TS003', 'TS004', 'TS005', 'TS006'…"
      ]
     },
     "metadata": {},
     "output_type": "display_data"
    }
   ],
   "source": [
    "#HIDDEN\n",
    "\n",
    "def unique_sorted_values5(array):\n",
    "    unique = array.unique().tolist()\n",
    "    unique.sort()\n",
    "    return unique\n",
    "\n",
    "df_comb2 = pd.read_csv('TS_New_Combined_Final.csv')\n",
    "df_comb2 = df_comb2.fillna(0)\n",
    "\n",
    "dfhead2 = pd.read_csv('TS_Locations_Actual.csv')\n",
    "dfhead2 = dfhead2.fillna(0)\n",
    "dfheadloc2 = dfhead2[dfhead2.latitude != 0]\n",
    "\n",
    "output_twelve = widgets.Output()\n",
    "output_thirteen = widgets.Output()\n",
    "#output_four = widgets.Output()\n",
    "#output_five = widgets.Output()\n",
    "output_sixteen = widgets.Output()\n",
    "#plot1_output = widgets.Output()\n",
    "#plot_output = widgets.Output()\n",
    "\n",
    "style = {'description_width': 'initial'}\n",
    "dropdown_stations2 = widgets.Dropdown(options = unique_sorted_values5(df_comb2.station_id), description='Additional Trend Station', style=style)\n",
    "\n",
    "def common_filtering2(station):\n",
    "    \n",
    "    output_twelve.clear_output()\n",
    "    output_thirteen.clear_output()\n",
    "    #output_four.clear_output()\n",
    "    #output_five.clear_output()\n",
    "    output_sixteen.clear_output()\n",
    "    #plot_output.clear_output()-OUTPUT USED ELSEWHERE!!!\n",
    "    \n",
    "    df_comb2 = pd.read_csv('TS_New_Combined_Final.csv')\n",
    "    df_comb2 = df_comb2.fillna(0)\n",
    "    \n",
    "    common_filter9 = df_comb2[(df_comb2.station_id == station)]\n",
    "    \n",
    "    global ts2\n",
    "    ts2 = dropdown_stations2.value\n",
    "    \n",
    "    df_comb2 = df_comb2[df_comb2['station_id'].str.contains(str(ts2), na=False)]\n",
    "        \n",
    "    group = df_comb2.groupby('param_name')\n",
    "    df3 = pd.DataFrame(group.apply(lambda x: x['test_batch_id'].unique()))\n",
    "\n",
    "    df3.reset_index(inplace=True)\n",
    "    df3 = df3.rename({0: 'DATES'}, axis='columns')\n",
    "\n",
    "    dates2 = df3[df3.param_name == 'LAB CONDUCTIVITY'].DATES.item()\n",
    "\n",
    "    initial_date2 = dates2[0]\n",
    "    \n",
    "    df_comb_date2 = common_filter9\n",
    "    df_comb_date2 = df_comb_date2[df_comb_date2['test_batch_id'] == initial_date2]\n",
    "    df_comb_date2 = df_comb_date2.drop(['station_id', 'sample_id', 'result_unit', 'test_batch_id'], axis=1)\n",
    "    df_comb_date2 = df_comb_date2.set_index('param_name').transpose()\n",
    "\n",
    "    #df_comb_date = df_comb_date.astype('float')-THIS WAS NOT WORKING!!!! UNNECESSARY!!!\n",
    "    #df_comb_date.columns = ['FIELD ph', 'FIELD CONDUCTIVITY','TEMPERATURE','FLOW', 'LAB CONDUCTIVITY', 'SULFATE', 'DISSOLVED SOLIDS', 'SUSPENDED SOLIDS', 'LAB ph', 'ALKALINITY', 'HOT ACIDITY', 'MINERAL ACIDITY', 'IRON_D', 'MANGANESE_D', 'ALUMINUM_D', 'IRON_T', 'MANGANESE_T', 'ALUMINUM_T', 'ANTIMONY', 'ARSENIC', 'BERYLLIUM', 'CADMIUM', 'CHROMIUM', 'COPPER', 'LEAD', 'MERCURY', 'NICKEL', 'SELENIUM', 'SILVER', 'THALLIUM', 'ZINC', 'CYANIDE', 'PHENOLS', 'NITRATE', 'SODIUM', 'CALCIUM', 'MAGNESIUM', 'POTASSIUM', 'BI-CARBONATE', 'CARBONATE', 'PHOSPHATE']\n",
    "\n",
    "    global df_comb_concat2\n",
    "    df_comb_concat2 = []\n",
    "    df_comb_concat2 = pd.concat([df_comb_date2], axis=0, sort=False)\n",
    "\n",
    "    as_list2 = df_comb_concat2.index.tolist()\n",
    "    idx2 = as_list2.index('result_value')\n",
    "    as_list2[idx2] = initial_date2\n",
    "    df_comb_concat2.index = as_list2\n",
    "\n",
    "    for i, date in enumerate(dates2):\n",
    "    \n",
    "        df_comb_date2 = common_filter9\n",
    "        df_comb_date2 = df_comb_date2[df_comb_date2['test_batch_id'] == dates2[i]]\n",
    "        df_comb_date2 = df_comb_date2.drop(['station_id', 'sample_id', 'result_unit', 'test_batch_id'], axis=1)\n",
    "        df_comb_date2 = df_comb_date2.set_index('param_name').transpose()\n",
    "    \n",
    "        #df_comb_date = df_comb_date.astype('float')-THIS WAS NOT WORKING!!!! UNNECESSARY!!!\n",
    "\n",
    "        #df_comb_date.columns = ['FIELD ph', 'FIELD CONDUCTIVITY','TEMPERATURE','FLOW', 'LAB CONDUCTIVITY', 'SULFATE', 'DISSOLVED SOLIDS', 'SUSPENDED SOLIDS', 'LAB pH', 'ALKALINITY', 'HOT ACIDITY', 'MINERAL ACIDITY', 'IRON_D', 'MANGANESE_D', 'ALUMINUM_D', 'IRON_T', 'MANGANESE_T', 'ALUMINUM_T', 'ANTIMONY', 'ARSENIC', 'BERYLLIUM', 'CADMIUM', 'CHROMIUM', 'COPPER', 'LEAD', 'MERCURY', 'NICKEL', 'SELENIUM', 'SILVER', 'THALLIUM', 'ZINC', 'CYANIDE', 'PHENOLS', 'NITRATE', 'SODIUM', 'CALCIUM', 'MAGNESIUM', 'POTASSIUM', 'BI-CARBONATE', 'CARBONATE', 'PHOSPHATE']\n",
    "    \n",
    "        df_comb_concat2 = pd.concat([df_comb_concat2, df_comb_date2], axis=0, sort=False)\n",
    "    \n",
    "        as_list2 = df_comb_concat2.index.tolist()\n",
    "        idx2 = as_list2.index('result_value')\n",
    "        as_list2[idx2] = dates2[i]\n",
    "        df_comb_concat2.index = as_list2\n",
    "\n",
    "        df_comb_concat2.index.name = str(dropdown_stations2.value)\n",
    "        \n",
    "    #df_comb_concat = df_comb_concat.fillna(0)\n",
    "    \n",
    "    #df_comb_concat = df_comb_concat.loc[:, (df_comb_date != 0).any(axis=0)]-THIS WAS DELETING COLUMNS WITH ANY ZERO VALUES!!!\n",
    "\n",
    "    df_comb_concat2.index = pd.to_datetime(df_comb_concat2.index)\n",
    "\n",
    "    df_comb_concat2 = df_comb_concat2.iloc[1:]\n",
    "    \n",
    "    #global df_comb_concat_old\n",
    "    df_comb_concat_old2 = pd.read_csv('TS_Old_Final/' + ts2 + '_Old_Combined_Final.csv')\n",
    "    df_comb_concat_old2.set_index(str(ts2), inplace=True)\n",
    "    df_comb_concat_old2.index = pd.to_datetime(df_comb_concat_old2.index)\n",
    "    df_comb_concat_old2.columns = ['FIELD ph', 'FIELD CONDUCTIVITY', 'TEMPERATURE', 'FIELD DISSOLVED OXYGEN', 'FLOW', 'LAB CONDUCTIVITY', 'SULFATE', 'DISSOLVED SOLIDS', 'SUSPENDED SOLIDS', 'LAB pH', 'ALKALINITY', 'HOT ACIDITY', 'MINERAL ACIDITY', 'IRON_D', 'MANGANESE_D', 'ALUMINUM_D', 'IRON_T', 'MANGANESE_T', 'ALUMINUM_T']\n",
    "    df_comb_concat_old2.replace('', 0, inplace=True)\n",
    "    df_comb_concat_old2.replace('FROZEN', 0, inplace=True)\n",
    "    df_comb_concat_old2['FLOW'].fillna(0, inplace=True)\n",
    "    df_comb_concat_old2['FLOW'] = df_comb_concat_old2['FLOW'].astype('float')\n",
    "    pd.to_numeric(df_comb_concat_old2['FLOW'])\n",
    "    \n",
    "    df_comb_concat2 = pd.concat([df_comb_concat_old2, df_comb_concat2], axis=0, sort=False)\n",
    "      \n",
    "    #global dfdesc\n",
    "    #dfdesc = df_comb_concat.describe()\n",
    "    #dfdesc.index.name = str(ts)\n",
    "\n",
    "    #global dfcorr\n",
    "    #dfcorr = df_comb_concat.corr()\n",
    "    #dfcorr = dfcorr.dropna(axis=0, how='all') #Resolves problem from above step\n",
    "    #dfcorr = dfcorr.dropna(axis=1, how='all') #Resolves problem from above step\n",
    "    #dfcorr.index.name = str(ts)\n",
    "    \n",
    "    global common_filter8\n",
    "    common_filter8 = dfheadloc2[(dfheadloc2.station_id == station)]    \n",
    "    \n",
    "    with output_twelve:\n",
    "        display(common_filter8)\n",
    "    \n",
    "    with output_thirteen:\n",
    "        display(common_filter9)\n",
    "        \n",
    "    #with output_four:\n",
    "        #display(df_comb_concat)\n",
    "    \n",
    "    #with output_five:\n",
    "        #display(dfdesc)\n",
    "        \n",
    "    with output_sixteen:\n",
    "        display(dfcorr2)\n",
    "              \n",
    "def dropdown_stations_eventhandler12(change):\n",
    "    common_filtering2(change.new)\n",
    "    \n",
    "dropdown_stations2.observe(dropdown_stations_eventhandler12, names='value')  \n",
    "  \n",
    "display(dropdown_stations2)"
   ]
  },
  {
   "cell_type": "markdown",
   "metadata": {},
   "source": [
    "## Additional Trend Station Location Information:"
   ]
  },
  {
   "cell_type": "code",
   "execution_count": 13,
   "metadata": {},
   "outputs": [
    {
     "data": {
      "application/vnd.jupyter.widget-view+json": {
       "model_id": "d59114d3102440a6abb209d8a94ab995",
       "version_major": 2,
       "version_minor": 0
      },
      "text/plain": [
       "Output()"
      ]
     },
     "metadata": {},
     "output_type": "display_data"
    }
   ],
   "source": [
    "#HIDDEN\n",
    "\n",
    "display(output_twelve)"
   ]
  },
  {
   "cell_type": "markdown",
   "metadata": {},
   "source": [
    "## Additional Water Quality Data Plots:"
   ]
  },
  {
   "cell_type": "code",
   "execution_count": 14,
   "metadata": {},
   "outputs": [
    {
     "data": {
      "application/vnd.jupyter.widget-view+json": {
       "model_id": "326b2be603d741418bd33e6e8f369777",
       "version_major": 2,
       "version_minor": 0
      },
      "text/plain": [
       "Dropdown(description='Parameter 1', options=('ALKALINITY', 'ALUMINUM_D', 'ALUMINUM_T', 'ANTIMONY', 'ARSENIC', …"
      ]
     },
     "metadata": {},
     "output_type": "display_data"
    },
    {
     "data": {
      "application/vnd.jupyter.widget-view+json": {
       "model_id": "965c340aeb9c4d48b8fc6e1b55c8ba73",
       "version_major": 2,
       "version_minor": 0
      },
      "text/plain": [
       "Dropdown(description='Parameter 2', options=('NONE', 'ALKALINITY', 'ALUMINUM_D', 'ALUMINUM_T', 'ANTIMONY', 'AR…"
      ]
     },
     "metadata": {},
     "output_type": "display_data"
    },
    {
     "data": {
      "application/vnd.jupyter.widget-view+json": {
       "model_id": "c42ae540b5d14fb09923b5df3dffc176",
       "version_major": 2,
       "version_minor": 0
      },
      "text/plain": [
       "IntRangeSlider(value=(15, 18), continuous_update=False, description='Data Range: (Total: 2002 to 2018, Default…"
      ]
     },
     "metadata": {},
     "output_type": "display_data"
    },
    {
     "data": {
      "application/vnd.jupyter.widget-view+json": {
       "model_id": "dacd31394cf146d5863f333dbc88c8cf",
       "version_major": 2,
       "version_minor": 0
      },
      "text/plain": [
       "Button(description='Display/Update Plot', style=ButtonStyle())"
      ]
     },
     "metadata": {},
     "output_type": "display_data"
    }
   ],
   "source": [
    "#HIDDEN\n",
    "\n",
    "def unique_sorted_values_plus_none2(array):\n",
    "    unique2 = array.unique().tolist()\n",
    "    unique2.sort()\n",
    "    unique2.insert(0, 'NONE')\n",
    "    return unique2\n",
    "\n",
    "labels=pd.Series(['FIELD ph', 'FIELD CONDUCTIVITY','TEMPERATURE','FLOW', 'LAB CONDUCTIVITY', 'SULFATE', 'DISSOLVED SOLIDS', 'SUSPENDED SOLIDS', 'LAB pH', 'ALKALINITY', 'HOT ACIDITY', 'MINERAL ACIDITY', 'IRON_D', 'MANGANESE_D', 'ALUMINUM_D', 'IRON_T', 'MANGANESE_T', 'ALUMINUM_T', 'ANTIMONY', 'ARSENIC', 'BERYLLIUM', 'CADMIUM', 'CHROMIUM', 'COPPER', 'LEAD', 'MERCURY', 'NICKEL', 'SELENIUM', 'SILVER', 'THALLIUM', 'ZINC', 'CYANIDE', 'PHENOLS', 'NITRATE', 'SODIUM', 'CALCIUM', 'MAGNESIUM', 'POTASSIUM', 'BI-CARBONATE', 'CARBONATE', 'PHOSPHATE'])\n",
    "\n",
    "dropdown_param12 = widgets.Dropdown(options = unique_sorted_values(labels), description='Parameter 1')\n",
    "dropdown_param13 = widgets.Dropdown(options = unique_sorted_values_plus_none2(labels), description='Parameter 2')\n",
    "button12 = widgets.Button(description='Display/Update Plot')\n",
    "\n",
    "style = {'description_width': 'initial'}\n",
    "\n",
    "year_slider2 = widgets.IntRangeSlider(value=[15, 18],min=2,max=18,step=1,layout=widgets.Layout(width='60%', height='20px'),description='Data Range: (Total: 2002 to 2018, Default: 2015 to 2018)',style=style,disabled=False,continuous_update=False,orientation='horizontal',readout=True,readout_format='d')\n",
    "\n",
    "plot1_output2 = widgets.Output()\n",
    "\n",
    "def on_button_click12(param12, param13, year12, year13):\n",
    "        plot1_output2.clear_output()\n",
    "        box12.value = False\n",
    "        box13.value = False\n",
    "        #box14.value = False\n",
    "        global df_comb_concat_filt2\n",
    "        with plot1_output2:\n",
    "            if param12 not in df_comb_concat2.columns:\n",
    "                print('NO DATA EXISTS FOR THE CHOSEN STATION/PARAMETER COMBINATION! PLEASE SELECT ANOTHER PARAMETER.')\n",
    "    \n",
    "            elif param13 == 'NONE' and param12 in df_comb_concat2.columns:\n",
    "                year12 = 2000 + int(year_slider2.value[0])\n",
    "                year13 = 2000 + int(year_slider2.value[1])\n",
    "                plt.figure(figsize=(20,8));\n",
    "                df_comb_concat_filt2 = df_comb_concat2[str(year12):str(year13)]\n",
    "                plt.plot(df_comb_concat_filt2[param12], 'go--', linewidth=1, markersize=6);\n",
    "                plt.grid();\n",
    "                color1 = 'tab:green'\n",
    "                plt.tick_params(axis='y', labelcolor=color1)\n",
    "                plt.ylabel(param12, fontsize=15, color=color1);\n",
    "                plt.xlabel('Date', fontsize=15);\n",
    "                plt.title(str(ts2), fontsize=25);\n",
    "                plt.show();\n",
    "                \n",
    "            \n",
    "            elif param12 in df_comb_concat2 and param13 not in df_comb_concat2.columns:\n",
    "                year12 = 2000 + int(year_slider2.value[0])\n",
    "                year13 = 2000 + int(year_slider2.value[1])\n",
    "                plt.figure(figsize=(20,8));\n",
    "                df_comb_concat_filt2 = df_comb_concat2[str(year12):str(year13)]\n",
    "                plt.plot(df_comb_concat_filt2[param12], 'go--', linewidth=1, markersize=6);\n",
    "                plt.grid();\n",
    "                color1 = 'tab:green'\n",
    "                plt.tick_params(axis='y', labelcolor=color1)\n",
    "                plt.ylabel(param12, fontsize=15, color=color1);\n",
    "                plt.xlabel('Date', fontsize=15);\n",
    "                plt.title(str(ts2), fontsize=25);\n",
    "                plt.show();\n",
    "                print('NO DATA EXISTS FOR THE SECOND SELECTED PARAMETER! PLEASE SELECT ANOTHER PARAMETER.')\n",
    "                \n",
    "            \n",
    "            else:\n",
    "                year12 = 2000 + int(year_slider2.value[0])\n",
    "                year13 = 2000 + int(year_slider2.value[1])\n",
    "                plt.figure(figsize=(20,8));\n",
    "                df_comb_concat_filt2 = df_comb_concat2[str(year12):str(year13)]\n",
    "                plt.plot(df_comb_concat_filt2[param12], 'go--', linewidth=1, markersize=6);\n",
    "                plt.grid();\n",
    "                color1 = 'tab:green'\n",
    "                plt.tick_params(axis='y', labelcolor=color1)\n",
    "                plt.ylabel(param12, fontsize=15, color=color1);\n",
    "                plt.ylabel(param12, fontsize=15);\n",
    "                plt.xlabel('Date', fontsize=15);\n",
    "                plt.title(str(ts2), fontsize=25);\n",
    "                ax2 = plt.twinx()  # instantiate a second axes that shares the same x-axis\n",
    "                color = 'tab:blue'\n",
    "                ax2.set_ylabel(param13, color=color, fontsize=15)  \n",
    "                ax2.plot(df_comb_concat_filt2[param13], 'bo--', linewidth=1, markersize=6, color=color)\n",
    "                ax2.tick_params(axis='y', labelcolor=color)\n",
    "                plt.show();\n",
    "                \n",
    "        \n",
    "def button12_eventhandler(change):\n",
    "    on_button_click12(dropdown_param12.value, dropdown_param13.value, year_slider2.value[0], year_slider2.value[1])\n",
    "\n",
    "button12.on_click(button12_eventhandler)\n",
    "\n",
    "\n",
    "def drop_eventhandler16(change):\n",
    "    plot1_output2.clear_output()\n",
    "    \n",
    "dropdown_stations2.observe(drop_eventhandler16, names='value')\n",
    "\n",
    "display(dropdown_param12)\n",
    "display(dropdown_param13)\n",
    "display(year_slider2)\n",
    "display(button12)"
   ]
  },
  {
   "cell_type": "code",
   "execution_count": 15,
   "metadata": {},
   "outputs": [
    {
     "data": {
      "application/vnd.jupyter.widget-view+json": {
       "model_id": "4ce8c6628e954606986b03e8ffbf2d23",
       "version_major": 2,
       "version_minor": 0
      },
      "text/plain": [
       "Output()"
      ]
     },
     "metadata": {},
     "output_type": "display_data"
    }
   ],
   "source": [
    "#HIDDEN\n",
    "\n",
    "from pandas.plotting import register_matplotlib_converters\n",
    "register_matplotlib_converters()\n",
    "\n",
    "display(plot1_output2)"
   ]
  },
  {
   "cell_type": "code",
   "execution_count": 16,
   "metadata": {},
   "outputs": [
    {
     "data": {
      "application/vnd.jupyter.widget-view+json": {
       "model_id": "f00a01c3aedf41f8adf8422b3f0f1d60",
       "version_major": 2,
       "version_minor": 0
      },
      "text/plain": [
       "Checkbox(value=False, description='Display Additional Water Quality Data', layout=Layout(height='20px', width=…"
      ]
     },
     "metadata": {},
     "output_type": "display_data"
    },
    {
     "data": {
      "application/vnd.jupyter.widget-view+json": {
       "model_id": "9cc9900398bb4c0fb1d15b13713b3a5b",
       "version_major": 2,
       "version_minor": 0
      },
      "text/plain": [
       "Output()"
      ]
     },
     "metadata": {},
     "output_type": "display_data"
    }
   ],
   "source": [
    "#HIDDEN\n",
    "\n",
    "box12 = widgets.Checkbox(False, description='Display Additional Water Quality Data', layout=widgets.Layout(width='60%', height='20px'))\n",
    "\n",
    "data_output12 = widgets.Output()\n",
    "\n",
    "def changed12(ts2, g):\n",
    "    data_output12.clear_output()\n",
    "    with data_output12:\n",
    "        if g==True:\n",
    "            display(df_comb_concat_filt2)\n",
    "        else:\n",
    "            data_output12.clear_output()\n",
    "\n",
    "def checkbox_eventhandler12(change):\n",
    "    changed12(dropdown_stations2.value, change.new)\n",
    "\n",
    "def checkbox_eventhandler13(change):\n",
    "    box12.value = False\n",
    "    data_output12.clear_output()\n",
    "    \n",
    "box12.observe(checkbox_eventhandler12, names='value')\n",
    "dropdown_stations2.observe(checkbox_eventhandler12, names='value')\n",
    "\n",
    "display(box12)\n",
    "display(data_output12)"
   ]
  },
  {
   "cell_type": "markdown",
   "metadata": {},
   "source": [
    "## Additional Water Quality Statistics:"
   ]
  },
  {
   "cell_type": "code",
   "execution_count": 17,
   "metadata": {},
   "outputs": [
    {
     "data": {
      "application/vnd.jupyter.widget-view+json": {
       "model_id": "67c3193d77704de685ef92f6302f30c8",
       "version_major": 2,
       "version_minor": 0
      },
      "text/plain": [
       "Checkbox(value=False, description='Display Additional Water Quality Statistics', layout=Layout(height='20px', …"
      ]
     },
     "metadata": {},
     "output_type": "display_data"
    },
    {
     "data": {
      "application/vnd.jupyter.widget-view+json": {
       "model_id": "8faa2a5c82d648d6a7511ded5dedbc58",
       "version_major": 2,
       "version_minor": 0
      },
      "text/plain": [
       "Output()"
      ]
     },
     "metadata": {},
     "output_type": "display_data"
    }
   ],
   "source": [
    "#HIDDEN\n",
    "\n",
    "box13 = widgets.Checkbox(False, description='Display Additional Water Quality Statistics', layout=widgets.Layout(width='60%', height='20px'))\n",
    "\n",
    "data1_output12 = widgets.Output()\n",
    "\n",
    "def changed13(ts, d):\n",
    "    data1_output.clear_output()\n",
    "    with data1_output12:\n",
    "        if d==True:\n",
    "            global dfdesc2\n",
    "            dfdesc2 = df_comb_concat_filt2.describe()\n",
    "            dfdesc2.index.name = str(ts2)\n",
    "            display(dfdesc2)\n",
    "        else:\n",
    "            data1_output12.clear_output()\n",
    "\n",
    "def checkbox_eventhandler14(change):\n",
    "    changed13(dropdown_stations2.value, change.new)\n",
    "\n",
    "def checkbox_eventhandler15(change):\n",
    "    box13.value = False\n",
    "    data1_output12.clear_output()\n",
    "\n",
    "box13.observe(checkbox_eventhandler14, names='value')\n",
    "dropdown_stations2.observe(checkbox_eventhandler15, names='value')\n",
    "\n",
    "\n",
    "display(box13)\n",
    "display(data1_output12)"
   ]
  }
 ],
 "metadata": {
  "kernelspec": {
   "display_name": "Python 3",
   "language": "python",
   "name": "python3"
  },
  "language_info": {
   "codemirror_mode": {
    "name": "ipython",
    "version": 3
   },
   "file_extension": ".py",
   "mimetype": "text/x-python",
   "name": "python",
   "nbconvert_exporter": "python",
   "pygments_lexer": "ipython3",
   "version": "3.7.3"
  }
 },
 "nbformat": 4,
 "nbformat_minor": 2
}
