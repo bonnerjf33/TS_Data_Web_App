{
 "cells": [
  {
   "cell_type": "markdown",
   "metadata": {},
   "source": [
    "![title](DEP_LOGO_2.jpg)"
   ]
  },
  {
   "cell_type": "markdown",
   "metadata": {},
   "source": [
    "# Trend Station Water Quality Data \n",
    "## Web Application Demo - Plotting"
   ]
  },
  {
   "cell_type": "code",
   "execution_count": null,
   "metadata": {},
   "outputs": [],
   "source": [
    "#HIDDEN\n",
    "\n",
    "import ipywidgets as widgets\n",
    "from ipywidgets import interact\n",
    "import pandas as pd\n",
    "import csv\n",
    "from geopy.geocoders import Nominatim\n",
    "from time import sleep\n",
    "import folium\n",
    "import matplotlib\n",
    "import matplotlib.cm as cm\n",
    "import matplotlib.colors as colors\n",
    "import matplotlib.pyplot as plt\n",
    "from folium.plugins import MarkerCluster\n",
    "import seaborn as sns\n",
    "from scipy import stats"
   ]
  },
  {
   "cell_type": "code",
   "execution_count": null,
   "metadata": {},
   "outputs": [],
   "source": [
    "#HIDDEN\n",
    "\n",
    "DATE = 'DATE'\n",
    "\n",
    "def unique_sorted_values_plus_DATE(array):\n",
    "    unique = array.unique().tolist()\n",
    "    unique.insert(0, DATE)\n",
    "    unique.sort()\n",
    "    return unique\n",
    "\n",
    "dropdown_param1 = widgets.Dropdown(options = unique_sorted_values_plus_DATE(df_comb.param_name), description='Param 1: X')\n",
    "dropdown_param2 = widgets.Dropdown(options = unique_sorted_values(df_comb.param_name), description='Param 2: Y')\n",
    "\n",
    "output_five = widgets.Output()\n",
    "output_six = widgets.Output()\n",
    "plot_output = widgets.Output()\n",
    "\n",
    "def common_filtering2(param1, param2):\n",
    "    \n",
    "    output_five.clear_output()\n",
    "    output_six.clear_output()\n",
    "    plot_output.clear_output()\n",
    "    \n",
    "    \n",
    "    if param1 == 'DATE':\n",
    "        global common_filter2\n",
    "        common_filter2 = list(df_comb_concat.index)\n",
    "    else:\n",
    "        common_filter2 = df_comb_concat[param1]\n",
    "        \n",
    "    global common_filter3\n",
    "    common_filter3 = df_comb_concat[param2]\n",
    "    \n",
    "    with output_five:\n",
    "        display(common_filter2)\n",
    "        \n",
    "    with output_six:\n",
    "        display(common_filter3)\n",
    "        \n",
    "    #with plot_output:\n",
    "        #if param == ALL or station == ALL:\n",
    "            #print(\"No Available Plots for the Selected Station/Parameter Combination!\")\n",
    "        #else:\n",
    "            #plt.figure(figsize=(20,8));\n",
    "            #plt.plot(common_filter2['result_value'], 'go--', linewidth=1, markersize=6);\n",
    "            #plt.grid();\n",
    "            #plt.ylabel(param, fontsize=15);\n",
    "            #plt.xlabel('Date', fontsize=15);\n",
    "            #plt.title(station, fontsize=25);\n",
    "            #plt.show();\n",
    "\n",
    "\n",
    "def dropdown_param1_eventhandler(change):\n",
    "    common_filtering2(change.new, dropdown_param2.value)\n",
    "    \n",
    "def dropdown_param2_eventhandler(change):\n",
    "    common_filtering2(dropdown_param1.value, change.new)\n",
    "    \n",
    "dropdown_param1.observe(dropdown_param1_eventhandler, names='value')\n",
    "dropdown_param2.observe(dropdown_param2_eventhandler, names='value')\n",
    "    \n",
    "display(dropdown_param1)\n",
    "display(dropdown_param2)"
   ]
  }
 ],
 "metadata": {
  "kernelspec": {
   "display_name": "Python 3",
   "language": "python",
   "name": "python3"
  },
  "language_info": {
   "codemirror_mode": {
    "name": "ipython",
    "version": 3
   },
   "file_extension": ".py",
   "mimetype": "text/x-python",
   "name": "python",
   "nbconvert_exporter": "python",
   "pygments_lexer": "ipython3",
   "version": "3.7.3"
  }
 },
 "nbformat": 4,
 "nbformat_minor": 2
}
