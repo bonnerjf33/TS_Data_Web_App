{
 "cells": [
  {
   "cell_type": "markdown",
   "metadata": {},
   "source": [
    "![title](DEP_LOGO_2.jpg)"
   ]
  },
  {
   "cell_type": "markdown",
   "metadata": {},
   "source": [
    "# Trend Station Water Quality Data \n",
    "## Web Application Demo"
   ]
  },
  {
   "cell_type": "code",
   "execution_count": 1,
   "metadata": {},
   "outputs": [],
   "source": [
    "#HIDDEN\n",
    "\n",
    "import ipywidgets as widgets\n",
    "from ipywidgets import interact\n",
    "import pandas as pd\n",
    "import csv\n",
    "from geopy.geocoders import Nominatim\n",
    "from time import sleep\n",
    "import folium\n",
    "import matplotlib\n",
    "import matplotlib.cm as cm\n",
    "import matplotlib.colors as colors\n",
    "import matplotlib.pyplot as plt\n",
    "from folium.plugins import MarkerCluster\n",
    "import seaborn as sns\n",
    "from scipy import stats"
   ]
  },
  {
   "cell_type": "code",
   "execution_count": 11,
   "metadata": {},
   "outputs": [
    {
     "data": {
      "application/vnd.jupyter.widget-view+json": {
       "model_id": "3299ebb32b1b48f5a6ceb2fc4672f8d5",
       "version_major": 2,
       "version_minor": 0
      },
      "text/plain": [
       "Dropdown(description='Trend Station', options=('TS001', 'TS002', 'TS003', 'TS004', 'TS005', 'TS006', 'TS007', …"
      ]
     },
     "metadata": {},
     "output_type": "display_data"
    }
   ],
   "source": [
    "#HIDDEN\n",
    "\n",
    "def unique_sorted_values_plus_ALL(array):\n",
    "    unique = array.unique().tolist()\n",
    "    unique.sort()\n",
    "    return unique\n",
    "\n",
    "df_comb = pd.read_csv('TS_New_Combined_Final.csv')\n",
    "df_comb = df_comb.fillna(0)\n",
    "\n",
    "output_three = widgets.Output()\n",
    "output_four = widgets.Output()\n",
    "\n",
    "dropdown_stations = widgets.Dropdown(options = unique_sorted_values_plus_ALL(df_comb.station_id), description='Trend Station')\n",
    "\n",
    "def common_filtering1(station):\n",
    "    \n",
    "    output_three.clear_output()\n",
    "    output_four.clear_output()\n",
    "    \n",
    "    df_comb = pd.read_csv('TS_New_Combined_Final.csv')\n",
    "    df_comb = df_comb.fillna(0)\n",
    "    \n",
    "    common_filter1 = df_comb[(df_comb.station_id == station)]\n",
    "    \n",
    "    ts = dropdown_stations.value\n",
    "    \n",
    "    df_comb = df_comb[df_comb['station_id'].str.contains(str(ts), na=False)]\n",
    "        \n",
    "    group = df_comb.groupby('param_name')\n",
    "    df2 = pd.DataFrame(group.apply(lambda x: x['test_batch_id'].unique()))\n",
    "\n",
    "    df2.reset_index(inplace=True)\n",
    "    df2 = df2.rename({0: 'DATES'}, axis='columns')\n",
    "\n",
    "    dates = df2[df2.param_name == 'BERYLLIUM'].DATES.item()\n",
    "\n",
    "    initial_date = dates[0]\n",
    "    \n",
    "    with output_three:\n",
    "        display(common_filter1)\n",
    "        \n",
    "    with output_four:\n",
    "        display(dates)\n",
    "\n",
    "def dropdown_stations_eventhandler(change):\n",
    "    common_filtering1(change.new)\n",
    "\n",
    "dropdown_stations.observe(dropdown_stations_eventhandler, names='value')  \n",
    "\n",
    "display(dropdown_stations)"
   ]
  },
  {
   "cell_type": "code",
   "execution_count": 12,
   "metadata": {
    "scrolled": true
   },
   "outputs": [
    {
     "data": {
      "application/vnd.jupyter.widget-view+json": {
       "model_id": "8cca7494ba2a4950809772f4437621cd",
       "version_major": 2,
       "version_minor": 0
      },
      "text/plain": [
       "Output()"
      ]
     },
     "metadata": {},
     "output_type": "display_data"
    }
   ],
   "source": [
    "#HIDDEN\n",
    "\n",
    "display(output_three)"
   ]
  },
  {
   "cell_type": "code",
   "execution_count": 13,
   "metadata": {},
   "outputs": [
    {
     "data": {
      "application/vnd.jupyter.widget-view+json": {
       "model_id": "ebb80682ce1241b38260ed16f22f84a2",
       "version_major": 2,
       "version_minor": 0
      },
      "text/plain": [
       "Output()"
      ]
     },
     "metadata": {},
     "output_type": "display_data"
    }
   ],
   "source": [
    "#HIDDEN\n",
    "\n",
    "display(output_four)"
   ]
  },
  {
   "cell_type": "code",
   "execution_count": 104,
   "metadata": {},
   "outputs": [
    {
     "ename": "ValueError",
     "evalue": "Length mismatch: Expected axis has 18 elements, new values have 41 elements",
     "output_type": "error",
     "traceback": [
      "\u001b[0;31m---------------------------------------------------------------------------\u001b[0m",
      "\u001b[0;31mValueError\u001b[0m                                Traceback (most recent call last)",
      "\u001b[0;32m<ipython-input-104-f23ef29d8a35>\u001b[0m in \u001b[0;36m<module>\u001b[0;34m\u001b[0m\n\u001b[1;32m     42\u001b[0m     \u001b[0;31m#df_comb_date = df_comb_date.astype('float')\u001b[0m\u001b[0;34m\u001b[0m\u001b[0;34m\u001b[0m\u001b[0;34m\u001b[0m\u001b[0m\n\u001b[1;32m     43\u001b[0m \u001b[0;34m\u001b[0m\u001b[0m\n\u001b[0;32m---> 44\u001b[0;31m     \u001b[0mdf_comb_date\u001b[0m\u001b[0;34m.\u001b[0m\u001b[0mcolumns\u001b[0m \u001b[0;34m=\u001b[0m \u001b[0;34m[\u001b[0m\u001b[0;34m'FIELD ph'\u001b[0m\u001b[0;34m,\u001b[0m \u001b[0;34m'FIELD CONDUCTIVITY'\u001b[0m\u001b[0;34m,\u001b[0m\u001b[0;34m'TEMPERATURE'\u001b[0m\u001b[0;34m,\u001b[0m\u001b[0;34m'FLOW'\u001b[0m\u001b[0;34m,\u001b[0m \u001b[0;34m'LAB CONDUCTIVITY'\u001b[0m\u001b[0;34m,\u001b[0m \u001b[0;34m'SULFATE'\u001b[0m\u001b[0;34m,\u001b[0m \u001b[0;34m'DISSOLVED SOLIDS'\u001b[0m\u001b[0;34m,\u001b[0m \u001b[0;34m'SUSPENDED SOLIDS'\u001b[0m\u001b[0;34m,\u001b[0m \u001b[0;34m'LAB ph'\u001b[0m\u001b[0;34m,\u001b[0m \u001b[0;34m'ALKALINITY'\u001b[0m\u001b[0;34m,\u001b[0m \u001b[0;34m'HOT ACIDITY'\u001b[0m\u001b[0;34m,\u001b[0m \u001b[0;34m'MINERAL ACIDITY'\u001b[0m\u001b[0;34m,\u001b[0m \u001b[0;34m'IRON_D'\u001b[0m\u001b[0;34m,\u001b[0m \u001b[0;34m'MANGANESE_D'\u001b[0m\u001b[0;34m,\u001b[0m \u001b[0;34m'ALUMINUM_D'\u001b[0m\u001b[0;34m,\u001b[0m \u001b[0;34m'IRON_T'\u001b[0m\u001b[0;34m,\u001b[0m \u001b[0;34m'MANGANESE_T'\u001b[0m\u001b[0;34m,\u001b[0m \u001b[0;34m'ALUMINUM_T'\u001b[0m\u001b[0;34m,\u001b[0m \u001b[0;34m'ANTIMONY'\u001b[0m\u001b[0;34m,\u001b[0m \u001b[0;34m'ARSENIC'\u001b[0m\u001b[0;34m,\u001b[0m \u001b[0;34m'BERYLLIUM'\u001b[0m\u001b[0;34m,\u001b[0m \u001b[0;34m'CADMIUM'\u001b[0m\u001b[0;34m,\u001b[0m \u001b[0;34m'CHROMIUM'\u001b[0m\u001b[0;34m,\u001b[0m \u001b[0;34m'COPPER'\u001b[0m\u001b[0;34m,\u001b[0m \u001b[0;34m'LEAD'\u001b[0m\u001b[0;34m,\u001b[0m \u001b[0;34m'MERCURY'\u001b[0m\u001b[0;34m,\u001b[0m \u001b[0;34m'NICKEL'\u001b[0m\u001b[0;34m,\u001b[0m \u001b[0;34m'SELENIUM'\u001b[0m\u001b[0;34m,\u001b[0m \u001b[0;34m'SILVER'\u001b[0m\u001b[0;34m,\u001b[0m \u001b[0;34m'THALLIUM'\u001b[0m\u001b[0;34m,\u001b[0m \u001b[0;34m'ZINC'\u001b[0m\u001b[0;34m,\u001b[0m \u001b[0;34m'CYANIDE'\u001b[0m\u001b[0;34m,\u001b[0m \u001b[0;34m'PHENOLS'\u001b[0m\u001b[0;34m,\u001b[0m \u001b[0;34m'NITRATE'\u001b[0m\u001b[0;34m,\u001b[0m \u001b[0;34m'SODIUM'\u001b[0m\u001b[0;34m,\u001b[0m \u001b[0;34m'CALCIUM'\u001b[0m\u001b[0;34m,\u001b[0m \u001b[0;34m'MAGNESIUM'\u001b[0m\u001b[0;34m,\u001b[0m \u001b[0;34m'POTASSIUM'\u001b[0m\u001b[0;34m,\u001b[0m \u001b[0;34m'BI-CARBONATE'\u001b[0m\u001b[0;34m,\u001b[0m \u001b[0;34m'CARBONATE'\u001b[0m\u001b[0;34m,\u001b[0m \u001b[0;34m'PHOSPHATE'\u001b[0m\u001b[0;34m]\u001b[0m\u001b[0;34m\u001b[0m\u001b[0;34m\u001b[0m\u001b[0m\n\u001b[0m\u001b[1;32m     45\u001b[0m \u001b[0;34m\u001b[0m\u001b[0m\n\u001b[1;32m     46\u001b[0m     \u001b[0mdf_comb_concat\u001b[0m \u001b[0;34m=\u001b[0m \u001b[0mpd\u001b[0m\u001b[0;34m.\u001b[0m\u001b[0mconcat\u001b[0m\u001b[0;34m(\u001b[0m\u001b[0;34m[\u001b[0m\u001b[0mdf_comb_concat\u001b[0m\u001b[0;34m,\u001b[0m \u001b[0mdf_comb_date\u001b[0m\u001b[0;34m]\u001b[0m\u001b[0;34m)\u001b[0m\u001b[0;34m\u001b[0m\u001b[0;34m\u001b[0m\u001b[0m\n",
      "\u001b[0;32m/srv/conda/envs/notebook/lib/python3.7/site-packages/pandas/core/generic.py\u001b[0m in \u001b[0;36m__setattr__\u001b[0;34m(self, name, value)\u001b[0m\n\u001b[1;32m   5078\u001b[0m         \u001b[0;32mtry\u001b[0m\u001b[0;34m:\u001b[0m\u001b[0;34m\u001b[0m\u001b[0;34m\u001b[0m\u001b[0m\n\u001b[1;32m   5079\u001b[0m             \u001b[0mobject\u001b[0m\u001b[0;34m.\u001b[0m\u001b[0m__getattribute__\u001b[0m\u001b[0;34m(\u001b[0m\u001b[0mself\u001b[0m\u001b[0;34m,\u001b[0m \u001b[0mname\u001b[0m\u001b[0;34m)\u001b[0m\u001b[0;34m\u001b[0m\u001b[0;34m\u001b[0m\u001b[0m\n\u001b[0;32m-> 5080\u001b[0;31m             \u001b[0;32mreturn\u001b[0m \u001b[0mobject\u001b[0m\u001b[0;34m.\u001b[0m\u001b[0m__setattr__\u001b[0m\u001b[0;34m(\u001b[0m\u001b[0mself\u001b[0m\u001b[0;34m,\u001b[0m \u001b[0mname\u001b[0m\u001b[0;34m,\u001b[0m \u001b[0mvalue\u001b[0m\u001b[0;34m)\u001b[0m\u001b[0;34m\u001b[0m\u001b[0;34m\u001b[0m\u001b[0m\n\u001b[0m\u001b[1;32m   5081\u001b[0m         \u001b[0;32mexcept\u001b[0m \u001b[0mAttributeError\u001b[0m\u001b[0;34m:\u001b[0m\u001b[0;34m\u001b[0m\u001b[0;34m\u001b[0m\u001b[0m\n\u001b[1;32m   5082\u001b[0m             \u001b[0;32mpass\u001b[0m\u001b[0;34m\u001b[0m\u001b[0;34m\u001b[0m\u001b[0m\n",
      "\u001b[0;32mpandas/_libs/properties.pyx\u001b[0m in \u001b[0;36mpandas._libs.properties.AxisProperty.__set__\u001b[0;34m()\u001b[0m\n",
      "\u001b[0;32m/srv/conda/envs/notebook/lib/python3.7/site-packages/pandas/core/generic.py\u001b[0m in \u001b[0;36m_set_axis\u001b[0;34m(self, axis, labels)\u001b[0m\n\u001b[1;32m    636\u001b[0m \u001b[0;34m\u001b[0m\u001b[0m\n\u001b[1;32m    637\u001b[0m     \u001b[0;32mdef\u001b[0m \u001b[0m_set_axis\u001b[0m\u001b[0;34m(\u001b[0m\u001b[0mself\u001b[0m\u001b[0;34m,\u001b[0m \u001b[0maxis\u001b[0m\u001b[0;34m,\u001b[0m \u001b[0mlabels\u001b[0m\u001b[0;34m)\u001b[0m\u001b[0;34m:\u001b[0m\u001b[0;34m\u001b[0m\u001b[0;34m\u001b[0m\u001b[0m\n\u001b[0;32m--> 638\u001b[0;31m         \u001b[0mself\u001b[0m\u001b[0;34m.\u001b[0m\u001b[0m_data\u001b[0m\u001b[0;34m.\u001b[0m\u001b[0mset_axis\u001b[0m\u001b[0;34m(\u001b[0m\u001b[0maxis\u001b[0m\u001b[0;34m,\u001b[0m \u001b[0mlabels\u001b[0m\u001b[0;34m)\u001b[0m\u001b[0;34m\u001b[0m\u001b[0;34m\u001b[0m\u001b[0m\n\u001b[0m\u001b[1;32m    639\u001b[0m         \u001b[0mself\u001b[0m\u001b[0;34m.\u001b[0m\u001b[0m_clear_item_cache\u001b[0m\u001b[0;34m(\u001b[0m\u001b[0;34m)\u001b[0m\u001b[0;34m\u001b[0m\u001b[0;34m\u001b[0m\u001b[0m\n\u001b[1;32m    640\u001b[0m \u001b[0;34m\u001b[0m\u001b[0m\n",
      "\u001b[0;32m/srv/conda/envs/notebook/lib/python3.7/site-packages/pandas/core/internals/managers.py\u001b[0m in \u001b[0;36mset_axis\u001b[0;34m(self, axis, new_labels)\u001b[0m\n\u001b[1;32m    153\u001b[0m             raise ValueError(\n\u001b[1;32m    154\u001b[0m                 \u001b[0;34m'Length mismatch: Expected axis has {old} elements, new '\u001b[0m\u001b[0;34m\u001b[0m\u001b[0;34m\u001b[0m\u001b[0m\n\u001b[0;32m--> 155\u001b[0;31m                 'values have {new} elements'.format(old=old_len, new=new_len))\n\u001b[0m\u001b[1;32m    156\u001b[0m \u001b[0;34m\u001b[0m\u001b[0m\n\u001b[1;32m    157\u001b[0m         \u001b[0mself\u001b[0m\u001b[0;34m.\u001b[0m\u001b[0maxes\u001b[0m\u001b[0;34m[\u001b[0m\u001b[0maxis\u001b[0m\u001b[0;34m]\u001b[0m \u001b[0;34m=\u001b[0m \u001b[0mnew_labels\u001b[0m\u001b[0;34m\u001b[0m\u001b[0;34m\u001b[0m\u001b[0m\n",
      "\u001b[0;31mValueError\u001b[0m: Length mismatch: Expected axis has 18 elements, new values have 41 elements"
     ]
    }
   ],
   "source": [
    "#HIDDEN\n",
    "\n",
    "ts = dropdown_stations.value\n",
    "\n",
    "output_four = widgets.Output()\n",
    "\n",
    "df_comb = df_comb[df_comb['station_id'].str.contains(str(ts), na=False)]\n",
    "        \n",
    "group = df_comb.groupby('param_name')\n",
    "df2 = pd.DataFrame(group.apply(lambda x: x['test_batch_id'].unique()))\n",
    "\n",
    "df2.reset_index(inplace=True)\n",
    "df2 = df2.rename({0: 'DATES'}, axis='columns')\n",
    "\n",
    "dates = df2[df2.param_name == 'BERYLLIUM'].DATES.item()\n",
    "\n",
    "initial_date = dates[0]\n",
    "\n",
    "df_comb_date = common_filter1\n",
    "df_comb_date = df_comb_date[df_comb_date['test_batch_id'] == initial_date]\n",
    "df_comb_date = df_comb_date.drop(['station_id', 'sample_id', 'fraction', 'result_unit', 'test_batch_id'], axis=1)\n",
    "df_comb_date = df_comb_date.set_index('param_name').transpose()\n",
    "\n",
    "#df_comb_date = df_comb_date.astype('float')\n",
    "df_comb_date.columns = ['FIELD ph', 'FIELD CONDUCTIVITY','TEMPERATURE','FLOW', 'LAB CONDUCTIVITY', 'SULFATE', 'DISSOLVED SOLIDS', 'SUSPENDED SOLIDS', 'LAB ph', 'ALKALINITY', 'HOT ACIDITY', 'MINERAL ACIDITY', 'IRON_D', 'MANGANESE_D', 'ALUMINUM_D', 'IRON_T', 'MANGANESE_T', 'ALUMINUM_T', 'ANTIMONY', 'ARSENIC', 'BERYLLIUM', 'CADMIUM', 'CHROMIUM', 'COPPER', 'LEAD', 'MERCURY', 'NICKEL', 'SELENIUM', 'SILVER', 'THALLIUM', 'ZINC', 'CYANIDE', 'PHENOLS', 'NITRATE', 'SODIUM', 'CALCIUM', 'MAGNESIUM', 'POTASSIUM', 'BI-CARBONATE', 'CARBONATE', 'PHOSPHATE']\n",
    "\n",
    "df_comb_concat = []\n",
    "df_comb_concat = pd.concat([df_comb_date])\n",
    "\n",
    "as_list = df_comb_concat.index.tolist()\n",
    "idx = as_list.index('result_value')\n",
    "as_list[idx] = initial_date\n",
    "df_comb_concat.index = as_list\n",
    "\n",
    "for i, date in enumerate(dates):\n",
    "    \n",
    "    df_comb_date = common_filter1\n",
    "    df_comb_date = df_comb_date[df_comb_date['test_batch_id'] == dates[i]]\n",
    "    df_comb_date = df_comb_date.drop(['station_id', 'sample_id', 'fraction', 'result_unit', 'test_batch_id'], axis=1)\n",
    "    df_comb_date = df_comb_date.set_index('param_name').transpose()\n",
    "    \n",
    "    #df_comb_date = df_comb_date.astype('float')\n",
    "\n",
    "    df_comb_date.columns = ['FIELD ph', 'FIELD CONDUCTIVITY','TEMPERATURE','FLOW', 'LAB CONDUCTIVITY', 'SULFATE', 'DISSOLVED SOLIDS', 'SUSPENDED SOLIDS', 'LAB ph', 'ALKALINITY', 'HOT ACIDITY', 'MINERAL ACIDITY', 'IRON_D', 'MANGANESE_D', 'ALUMINUM_D', 'IRON_T', 'MANGANESE_T', 'ALUMINUM_T', 'ANTIMONY', 'ARSENIC', 'BERYLLIUM', 'CADMIUM', 'CHROMIUM', 'COPPER', 'LEAD', 'MERCURY', 'NICKEL', 'SELENIUM', 'SILVER', 'THALLIUM', 'ZINC', 'CYANIDE', 'PHENOLS', 'NITRATE', 'SODIUM', 'CALCIUM', 'MAGNESIUM', 'POTASSIUM', 'BI-CARBONATE', 'CARBONATE', 'PHOSPHATE']\n",
    "    \n",
    "    df_comb_concat = pd.concat([df_comb_concat, df_comb_date])\n",
    "    \n",
    "    as_list = df_comb_concat.index.tolist()\n",
    "    idx = as_list.index('result_value')\n",
    "    as_list[idx] = dates[i]\n",
    "    df_comb_concat.index = as_list\n",
    "\n",
    "    df_comb_concat.index.name = str(dropdown_stations.value)\n",
    "        \n",
    "df_comb_concat = df_comb_concat.fillna(0)\n",
    "    \n",
    "df_comb_concat = df_comb_concat.loc[:, (df_comb_date != 0).any(axis=0)]\n",
    "\n",
    "df_comb_concat.index = pd.to_datetime(df_comb_concat.index)\n",
    "\n",
    "df_comb_concat = df_comb_concat.iloc[1:]\n",
    "\n",
    "with output_four:\n",
    "    display(df_comb_concat) \n",
    "    \n",
    "def dropdown_stations_eventhandler(change):\n",
    "    common_filtering1(change.new)"
   ]
  },
  {
   "cell_type": "code",
   "execution_count": 103,
   "metadata": {},
   "outputs": [
    {
     "data": {
      "application/vnd.jupyter.widget-view+json": {
       "model_id": "37f17db3950c4db08b19dcdc470608c6",
       "version_major": 2,
       "version_minor": 0
      },
      "text/plain": [
       "Output()"
      ]
     },
     "metadata": {},
     "output_type": "display_data"
    }
   ],
   "source": [
    "display(output_four)"
   ]
  },
  {
   "cell_type": "code",
   "execution_count": null,
   "metadata": {},
   "outputs": [],
   "source": []
  }
 ],
 "metadata": {
  "kernelspec": {
   "display_name": "Python 3",
   "language": "python",
   "name": "python3"
  },
  "language_info": {
   "codemirror_mode": {
    "name": "ipython",
    "version": 3
   },
   "file_extension": ".py",
   "mimetype": "text/x-python",
   "name": "python",
   "nbconvert_exporter": "python",
   "pygments_lexer": "ipython3",
   "version": "3.7.3"
  }
 },
 "nbformat": 4,
 "nbformat_minor": 2
}
