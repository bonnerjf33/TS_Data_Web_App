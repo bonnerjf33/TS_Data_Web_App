{
 "cells": [
  {
   "cell_type": "markdown",
   "metadata": {},
   "source": [
    "![title](DEP_LOGO_2.jpg)"
   ]
  },
  {
   "cell_type": "markdown",
   "metadata": {},
   "source": [
    "# Trend Station Water Quality Data \n",
    "## Web Application Demo"
   ]
  },
  {
   "cell_type": "code",
   "execution_count": null,
   "metadata": {},
   "outputs": [],
   "source": [
    "ts = dropdown_stations.value\n",
    "\n",
    "output_four = widgets.Output()\n",
    "\n",
    "df_comb = pd.read_csv('TS_New_Combined_Final.csv')\n",
    "df_comb = df_comb.fillna(0)\n",
    "df_comb = df_comb[df_comb['station_id'].str.contains(ts, na=False)]\n",
    "\n",
    "group = df_comb.groupby('param_name')\n",
    "df2 = pd.DataFrame(group.apply(lambda x: x['test_batch_id'].unique()))\n",
    "\n",
    "df2.reset_index(inplace=True)\n",
    "df2 = df2.rename({0: 'DATES'}, axis='columns')\n",
    "\n",
    "dates = df2[df2.param_name == 'ARSENIC'].DATES.item()\n",
    "\n",
    "initial_date = dates[0]\n",
    "\n",
    "df_comb_date = common_filter1[common_filter1['station_id'].str.contains(ts, na=False)]\n",
    "df_comb_date = df_comb_date[df_comb_date['test_batch_id'] == initial_date]\n",
    "df_comb_date = df_comb_date.drop(['station_id', 'sample_id', 'fraction', 'result_unit', 'test_batch_id'], axis=1)\n",
    "df_comb_date = df_comb_date.set_index('param_name').transpose()\n",
    "\n",
    "#df_comb_date = df_comb_date.astype('float')\n",
    "df_comb_date.columns = ['FIELD ph', 'FIELD CONDUCTIVITY','TEMPERATURE','FLOW', 'LAB CONDUCTIVITY', 'SULFATE', 'DISSOLVED SOLIDS', 'SUSPENDED SOLIDS', 'LAB ph', 'ALKALINITY', 'HOT ACIDITY', 'MINERAL ACIDITY', 'IRON_D', 'MANGANESE_D', 'ALUMINUM_D', 'IRON_T', 'MANGANESE_T', 'ALUMINUM_T', 'ANTIMONY', 'ARSENIC', 'BERYLLIUM', 'CADMIUM', 'CHROMIUM', 'COPPER', 'LEAD', 'MERCURY', 'NICKEL', 'SELENIUM', 'SILVER', 'THALLIUM', 'ZINC', 'CYANIDE', 'PHENOLS', 'NITRATE', 'SODIUM', 'CALCIUM', 'MAGNESIUM', 'POTASSIUM', 'BI-CARBONATE', 'CARBONATE', 'PHOSPHATE']\n",
    "\n",
    "df_comb_concat = []\n",
    "df_comb_concat = pd.concat([df_comb_date])\n",
    "\n",
    "as_list = df_comb_concat.index.tolist()\n",
    "idx = as_list.index('result_value')\n",
    "as_list[idx] = initial_date\n",
    "df_comb_concat.index = as_list\n",
    "\n",
    "for i, date in enumerate(dates):\n",
    "    \n",
    "    df_comb_date = common_filter1[common_filter1['station_id'].str.contains(ts, na=False)]\n",
    "    df_comb_date = df_comb_date[df_comb_date['test_batch_id'] == dates[i]]\n",
    "    df_comb_date = df_comb_date.drop(['station_id', 'sample_id', 'fraction', 'result_unit', 'test_batch_id'], axis=1)\n",
    "    df_comb_date = df_comb_date.set_index('param_name').transpose()\n",
    "    \n",
    "    #df_comb_date = df_comb_date.astype('float')\n",
    "\n",
    "    df_comb_date.columns = ['FIELD ph', 'FIELD CONDUCTIVITY','TEMPERATURE','FLOW', 'LAB CONDUCTIVITY', 'SULFATE', 'DISSOLVED SOLIDS', 'SUSPENDED SOLIDS', 'LAB ph', 'ALKALINITY', 'HOT ACIDITY', 'MINERAL ACIDITY', 'IRON_D', 'MANGANESE_D', 'ALUMINUM_D', 'IRON_T', 'MANGANESE_T', 'ALUMINUM_T', 'ANTIMONY', 'ARSENIC', 'BERYLLIUM', 'CADMIUM', 'CHROMIUM', 'COPPER', 'LEAD', 'MERCURY', 'NICKEL', 'SELENIUM', 'SILVER', 'THALLIUM', 'ZINC', 'CYANIDE', 'PHENOLS', 'NITRATE', 'SODIUM', 'CALCIUM', 'MAGNESIUM', 'POTASSIUM', 'BI-CARBONATE', 'CARBONATE', 'PHOSPHATE']\n",
    "    \n",
    "    df_comb_concat = pd.concat([df_comb_concat, df_comb_date])\n",
    "    \n",
    "    as_list = df_comb_concat.index.tolist()\n",
    "    idx = as_list.index('result_value')\n",
    "    as_list[idx] = dates[i]\n",
    "    df_comb_concat.index = as_list\n",
    "\n",
    "    df_comb_concat.index.name = str(dropdown_stations.value)\n",
    "        \n",
    "df_comb_concat = df_comb_concat.fillna(0)\n",
    "    \n",
    "df_comb_concat = df_comb_concat.loc[:, (df_comb_date != 0).any(axis=0)]\n",
    "\n",
    "df_comb_concat.index = pd.to_datetime(df_comb_concat.index)\n",
    "\n",
    "df_comb_concat = df_comb_concat.iloc[1:]\n",
    "\n",
    "with output_four:\n",
    "    display(df_comb_concat)"
   ]
  }
 ],
 "metadata": {
  "kernelspec": {
   "display_name": "Python 3",
   "language": "python",
   "name": "python3"
  },
  "language_info": {
   "codemirror_mode": {
    "name": "ipython",
    "version": 3
   },
   "file_extension": ".py",
   "mimetype": "text/x-python",
   "name": "python",
   "nbconvert_exporter": "python",
   "pygments_lexer": "ipython3",
   "version": "3.7.3"
  }
 },
 "nbformat": 4,
 "nbformat_minor": 2
}
