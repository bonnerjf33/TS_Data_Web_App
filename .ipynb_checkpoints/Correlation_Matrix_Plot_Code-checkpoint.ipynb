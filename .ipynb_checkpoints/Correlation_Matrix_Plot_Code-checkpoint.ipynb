{
 "cells": [
  {
   "cell_type": "markdown",
   "metadata": {},
   "source": [
    "### Pearson Correlation Coeffiecient Matrix:\n",
    "\n",
    "Note: This Process May Take up to 10 sec. to Return a Result"
   ]
  },
  {
   "cell_type": "code",
   "execution_count": null,
   "metadata": {},
   "outputs": [],
   "source": [
    "#HIDDEN\n",
    "\n",
    "box1 = widgets.Checkbox(False, description='Display Correlation Matrix')\n",
    "\n",
    "def changed(ts, b):\n",
    "    plot_output.clear_output()\n",
    "    with plot_output:\n",
    "        if b==True:\n",
    "            width = 50\n",
    "            height = 50\n",
    "            fig = plt.figure(figsize=(width, height))\n",
    "            ax1 = fig.add_subplot(111)\n",
    "            ax1.grid(True)\n",
    "            labels=['FIELD ph', 'FIELD CONDUCTIVITY','TEMPERATURE','FLOW', 'LAB CONDUCTIVITY', 'SULFATE', 'DISSOLVED SOLIDS', 'SUSPENDED SOLIDS', 'LAB pH', 'ALKALINITY', 'HOT ACIDITY', 'MINERAL ACIDITY', 'IRON_D', 'MANGANESE_D', 'ALUMINUM_D', 'IRON_T', 'MANGANESE_T', 'ALUMINUM_T', 'ANTIMONY', 'ARSENIC', 'BERYLLIUM', 'CADMIUM', 'CHROMIUM', 'COPPER', 'LEAD', 'MERCURY', 'NICKEL', 'SELENIUM', 'SILVER', 'THALLIUM', 'ZINC', 'CYANIDE', 'PHENOLS', 'NITRATE', 'SODIUM', 'CALCIUM', 'MAGNESIUM', 'POTASSIUM', 'BI-CARBONATE', 'CARBONATE', 'PHOSPHATE']\n",
    "            ax1.set_xticklabels(labels,fontsize=28)\n",
    "            ax1.set_yticklabels(labels,fontsize=28)\n",
    "            sns.heatmap(dfcorr, annot=True, fmt=\".2f\", annot_kws={\"size\": 25},cbar_kws={'label': 'Pearson R'})\n",
    "            plt.title('Trend Station Parameter Comparison - ' + ts, fontsize=70)\n",
    "            ax1.figure.axes[-1].set_ylabel('Pearson R', size=50)\n",
    "            plt.show()\n",
    "        else:\n",
    "            plot_output.clear_output()\n",
    "\n",
    "def checkbox_eventhandler(change):\n",
    "    changed(dropdown_stations.value, change.new)\n",
    "\n",
    "def checkbox_eventhandler2(change):\n",
    "    box1.value = False\n",
    "    plot_output.clear_output()\n",
    "    \n",
    "box1.observe(checkbox_eventhandler, names='value')\n",
    "dropdown_stations.observe(checkbox_eventhandler2, names='value')\n",
    "\n",
    "display(box1)\n",
    "display(plot_output)"
   ]
  },
  {
   "cell_type": "code",
   "execution_count": null,
   "metadata": {},
   "outputs": [],
   "source": []
  }
 ],
 "metadata": {
  "kernelspec": {
   "display_name": "Python 3",
   "language": "python",
   "name": "python3"
  },
  "language_info": {
   "codemirror_mode": {
    "name": "ipython",
    "version": 3
   },
   "file_extension": ".py",
   "mimetype": "text/x-python",
   "name": "python",
   "nbconvert_exporter": "python",
   "pygments_lexer": "ipython3",
   "version": "3.7.3"
  }
 },
 "nbformat": 4,
 "nbformat_minor": 2
}
