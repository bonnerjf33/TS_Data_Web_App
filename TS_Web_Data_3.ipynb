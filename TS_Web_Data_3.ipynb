{
 "cells": [
  {
   "cell_type": "markdown",
   "metadata": {},
   "source": [
    "![title](DEP_LOGO_2.jpg)"
   ]
  },
  {
   "cell_type": "markdown",
   "metadata": {},
   "source": [
    "# Trend Station Water Quality Data \n",
    "## Web Application Demo - Expanded Parameters"
   ]
  },
  {
   "cell_type": "code",
   "execution_count": 1,
   "metadata": {},
   "outputs": [],
   "source": [
    "#HIDDEN\n",
    "\n",
    "import ipywidgets as widgets\n",
    "from ipywidgets import interact\n",
    "import pandas as pd\n",
    "import csv\n",
    "from geopy.geocoders import Nominatim\n",
    "from time import sleep\n",
    "import folium\n",
    "import matplotlib\n",
    "import matplotlib.cm as cm\n",
    "import matplotlib.colors as colors\n",
    "import matplotlib.pyplot as plt\n",
    "from folium.plugins import MarkerCluster\n",
    "import seaborn as sns\n",
    "from scipy import stats"
   ]
  },
  {
   "cell_type": "markdown",
   "metadata": {},
   "source": [
    "## Select Trend Station:"
   ]
  },
  {
   "cell_type": "code",
   "execution_count": 16,
   "metadata": {},
   "outputs": [
    {
     "data": {
      "application/vnd.jupyter.widget-view+json": {
       "model_id": "13b9d54e7f7a45dd8be1c5a745bbb1c8",
       "version_major": 2,
       "version_minor": 0
      },
      "text/plain": [
       "Dropdown(description='Trend Station', options=('TS001', 'TS002', 'TS003', 'TS004', 'TS005', 'TS006', 'TS007', …"
      ]
     },
     "metadata": {},
     "output_type": "display_data"
    }
   ],
   "source": [
    "#HIDDEN\n",
    "\n",
    "def unique_sorted_values(array):\n",
    "    unique = array.unique().tolist()\n",
    "    unique.sort()\n",
    "    return unique\n",
    "\n",
    "df_comb = pd.read_csv('TS_New_Combined_Final.csv')\n",
    "df_comb = df_comb.fillna(0)\n",
    "\n",
    "output_three = widgets.Output()\n",
    "output_four = widgets.Output()\n",
    "\n",
    "dropdown_stations = widgets.Dropdown(options = unique_sorted_values(df_comb.station_id), description='Trend Station')\n",
    "\n",
    "def common_filtering1(station):\n",
    "    \n",
    "    output_three.clear_output()\n",
    "    output_four.clear_output()\n",
    "    \n",
    "    df_comb = pd.read_csv('TS_New_Combined_Final.csv')\n",
    "    df_comb = df_comb.fillna(0)\n",
    "    \n",
    "    common_filter1 = df_comb[(df_comb.station_id == station)]\n",
    "    \n",
    "    ts = dropdown_stations.value\n",
    "    \n",
    "    df_comb = df_comb[df_comb['station_id'].str.contains(str(ts), na=False)]\n",
    "        \n",
    "    group = df_comb.groupby('param_name')\n",
    "    df2 = pd.DataFrame(group.apply(lambda x: x['test_batch_id'].unique()))\n",
    "\n",
    "    df2.reset_index(inplace=True)\n",
    "    df2 = df2.rename({0: 'DATES'}, axis='columns')\n",
    "\n",
    "    dates = df2[df2.param_name == 'BERYLLIUM'].DATES.item()\n",
    "\n",
    "    initial_date = dates[0]\n",
    "    \n",
    "    df_comb_date = common_filter1\n",
    "    df_comb_date = df_comb_date[df_comb_date['test_batch_id'] == initial_date]\n",
    "    df_comb_date = df_comb_date.drop(['station_id', 'sample_id', 'fraction', 'result_unit', 'test_batch_id'], axis=1)\n",
    "    df_comb_date = df_comb_date.set_index('param_name').transpose()\n",
    "\n",
    "    #df_comb_date = df_comb_date.astype('float')\n",
    "    df_comb_date.columns = ['FIELD ph', 'FIELD CONDUCTIVITY','TEMPERATURE','FLOW', 'LAB CONDUCTIVITY', 'SULFATE', 'DISSOLVED SOLIDS', 'SUSPENDED SOLIDS', 'LAB ph', 'ALKALINITY', 'HOT ACIDITY', 'MINERAL ACIDITY', 'IRON_D', 'MANGANESE_D', 'ALUMINUM_D', 'IRON_T', 'MANGANESE_T', 'ALUMINUM_T', 'ANTIMONY', 'ARSENIC', 'BERYLLIUM', 'CADMIUM', 'CHROMIUM', 'COPPER', 'LEAD', 'MERCURY', 'NICKEL', 'SELENIUM', 'SILVER', 'THALLIUM', 'ZINC', 'CYANIDE', 'PHENOLS', 'NITRATE', 'SODIUM', 'CALCIUM', 'MAGNESIUM', 'POTASSIUM', 'BI-CARBONATE', 'CARBONATE', 'PHOSPHATE']\n",
    "\n",
    "    global df_comb_concat\n",
    "    df_comb_concat = []\n",
    "    df_comb_concat = pd.concat([df_comb_date])\n",
    "\n",
    "    as_list = df_comb_concat.index.tolist()\n",
    "    idx = as_list.index('result_value')\n",
    "    as_list[idx] = initial_date\n",
    "    df_comb_concat.index = as_list\n",
    "\n",
    "    for i, date in enumerate(dates):\n",
    "    \n",
    "        df_comb_date = common_filter1\n",
    "        df_comb_date = df_comb_date[df_comb_date['test_batch_id'] == dates[i]]\n",
    "        df_comb_date = df_comb_date.drop(['station_id', 'sample_id', 'fraction', 'result_unit', 'test_batch_id'], axis=1)\n",
    "        df_comb_date = df_comb_date.set_index('param_name').transpose()\n",
    "    \n",
    "        #df_comb_date = df_comb_date.astype('float')\n",
    "\n",
    "        df_comb_date.columns = ['FIELD ph', 'FIELD CONDUCTIVITY','TEMPERATURE','FLOW', 'LAB CONDUCTIVITY', 'SULFATE', 'DISSOLVED SOLIDS', 'SUSPENDED SOLIDS', 'LAB ph', 'ALKALINITY', 'HOT ACIDITY', 'MINERAL ACIDITY', 'IRON_D', 'MANGANESE_D', 'ALUMINUM_D', 'IRON_T', 'MANGANESE_T', 'ALUMINUM_T', 'ANTIMONY', 'ARSENIC', 'BERYLLIUM', 'CADMIUM', 'CHROMIUM', 'COPPER', 'LEAD', 'MERCURY', 'NICKEL', 'SELENIUM', 'SILVER', 'THALLIUM', 'ZINC', 'CYANIDE', 'PHENOLS', 'NITRATE', 'SODIUM', 'CALCIUM', 'MAGNESIUM', 'POTASSIUM', 'BI-CARBONATE', 'CARBONATE', 'PHOSPHATE']\n",
    "    \n",
    "        df_comb_concat = pd.concat([df_comb_concat, df_comb_date])\n",
    "    \n",
    "        as_list = df_comb_concat.index.tolist()\n",
    "        idx = as_list.index('result_value')\n",
    "        as_list[idx] = dates[i]\n",
    "        df_comb_concat.index = as_list\n",
    "\n",
    "        df_comb_concat.index.name = str(dropdown_stations.value)\n",
    "        \n",
    "    df_comb_concat = df_comb_concat.fillna(0)\n",
    "    \n",
    "    df_comb_concat = df_comb_concat.loc[:, (df_comb_date != 0).any(axis=0)]\n",
    "\n",
    "    df_comb_concat.index = pd.to_datetime(df_comb_concat.index)\n",
    "\n",
    "    df_comb_concat = df_comb_concat.iloc[1:]\n",
    "  \n",
    "    with output_three:\n",
    "        display(common_filter1)\n",
    "        \n",
    "    with output_four:\n",
    "        display(df_comb_concat)\n",
    "\n",
    "def dropdown_stations_eventhandler(change):\n",
    "    common_filtering1(change.new)\n",
    "\n",
    "dropdown_stations.observe(dropdown_stations_eventhandler, names='value')  \n",
    "\n",
    "display(dropdown_stations)"
   ]
  },
  {
   "cell_type": "markdown",
   "metadata": {},
   "source": [
    "## Display Available Water Quality Data:"
   ]
  },
  {
   "cell_type": "code",
   "execution_count": 17,
   "metadata": {
    "scrolled": false
   },
   "outputs": [
    {
     "data": {
      "application/vnd.jupyter.widget-view+json": {
       "model_id": "24c51f6f08434b00bd5da931ac536bd4",
       "version_major": 2,
       "version_minor": 0
      },
      "text/plain": [
       "Output()"
      ]
     },
     "metadata": {},
     "output_type": "display_data"
    }
   ],
   "source": [
    "#HIDDEN\n",
    "\n",
    "display(output_four)"
   ]
  },
  {
   "cell_type": "markdown",
   "metadata": {},
   "source": [
    "## Plot Selected Water Quality Parameters:"
   ]
  },
  {
   "cell_type": "code",
   "execution_count": 24,
   "metadata": {},
   "outputs": [
    {
     "data": {
      "application/vnd.jupyter.widget-view+json": {
       "model_id": "0c69f841970d468589a060921173d715",
       "version_major": 2,
       "version_minor": 0
      },
      "text/plain": [
       "Dropdown(description='Param 1: X', options=('ALKALINITY', 'ALUMINUM', 'ANTIMONY', 'ARSENIC', 'BERYLLIUM', 'BI-…"
      ]
     },
     "metadata": {},
     "output_type": "display_data"
    },
    {
     "data": {
      "application/vnd.jupyter.widget-view+json": {
       "model_id": "971be64b4f9a44feadf881ca4180aa79",
       "version_major": 2,
       "version_minor": 0
      },
      "text/plain": [
       "Dropdown(description='Param 2: Y', options=('ALKALINITY', 'ALUMINUM', 'ANTIMONY', 'ARSENIC', 'BERYLLIUM', 'BI-…"
      ]
     },
     "metadata": {},
     "output_type": "display_data"
    }
   ],
   "source": [
    "#HIDDEN\n",
    "\n",
    "DATE = 'DATE'\n",
    "\n",
    "def unique_sorted_values_plus_DATE(array):\n",
    "    unique = array.unique().tolist()\n",
    "    unique.insert(0, DATE)\n",
    "    unique.sort()\n",
    "    return unique\n",
    "\n",
    "dropdown_param1 = widgets.Dropdown(options = unique_sorted_values_plus_DATE(df_comb.param_name), description='Param 1: X')\n",
    "dropdown_param2 = widgets.Dropdown(options = unique_sorted_values(df_comb.param_name), description='Param 2: Y')\n",
    "\n",
    "output_five = widgets.Output()\n",
    "output_six = widgets.Output()\n",
    "plot_output = widgets.Output()\n",
    "\n",
    "def common_filtering2(param1, param2):\n",
    "    \n",
    "    output_five.clear_output()\n",
    "    output_six.clear_output()\n",
    "    plot_output.clear_output()\n",
    "    \n",
    "    \n",
    "    if param1 == 'DATE':\n",
    "        global common_filter2\n",
    "        common_filter2 = df_comb_concat[param1]\n",
    "    else:\n",
    "        common_filter2 = df_comb_concat[param1]\n",
    "        \n",
    "    global common_filter3\n",
    "    common_filter3 = df_comb_concat[param2]\n",
    "    \n",
    "    with output_five:\n",
    "        display(common_filter2)\n",
    "        \n",
    "    with output_six:\n",
    "        display(common_filter3)\n",
    "        \n",
    "    #with plot_output:\n",
    "        #if param == ALL or station == ALL:\n",
    "            #print(\"No Available Plots for the Selected Station/Parameter Combination!\")\n",
    "        #else:\n",
    "            #plt.figure(figsize=(20,8));\n",
    "            #plt.plot(common_filter2['result_value'], 'go--', linewidth=1, markersize=6);\n",
    "            #plt.grid();\n",
    "            #plt.ylabel(param, fontsize=15);\n",
    "            #plt.xlabel('Date', fontsize=15);\n",
    "            #plt.title(station, fontsize=25);\n",
    "            #plt.show();\n",
    "\n",
    "\n",
    "def dropdown_param1_eventhandler(change):\n",
    "    common_filtering2(change.new, dropdown_param2.value)\n",
    "    \n",
    "def dropdown_param2_eventhandler(change):\n",
    "    common_filtering2(dropdown_param1.value, change.new)\n",
    "    \n",
    "dropdown_param1.observe(dropdown_param1_eventhandler, names='value')\n",
    "dropdown_param2.observe(dropdown_param2_eventhandler, names='value')\n",
    "    \n",
    "display(dropdown_param1)\n",
    "display(dropdown_param2)"
   ]
  },
  {
   "cell_type": "code",
   "execution_count": 13,
   "metadata": {},
   "outputs": [
    {
     "data": {
      "application/vnd.jupyter.widget-view+json": {
       "model_id": "770c679df210446f8c5f300334c5b218",
       "version_major": 2,
       "version_minor": 0
      },
      "text/plain": [
       "Output()"
      ]
     },
     "metadata": {},
     "output_type": "display_data"
    }
   ],
   "source": [
    "#HIDDEN\n",
    "\n",
    "display(output_five)"
   ]
  },
  {
   "cell_type": "code",
   "execution_count": 14,
   "metadata": {},
   "outputs": [
    {
     "data": {
      "application/vnd.jupyter.widget-view+json": {
       "model_id": "07cc41e3769f4fb48ebe2dcdc1313c62",
       "version_major": 2,
       "version_minor": 0
      },
      "text/plain": [
       "Output()"
      ]
     },
     "metadata": {},
     "output_type": "display_data"
    }
   ],
   "source": [
    "#HIDDEN\n",
    "\n",
    "display(output_six)"
   ]
  },
  {
   "cell_type": "code",
   "execution_count": null,
   "metadata": {},
   "outputs": [],
   "source": [
    "#HIDDEN\n",
    "\n",
    "display(plot_output)"
   ]
  }
 ],
 "metadata": {
  "kernelspec": {
   "display_name": "Python 3",
   "language": "python",
   "name": "python3"
  },
  "language_info": {
   "codemirror_mode": {
    "name": "ipython",
    "version": 3
   },
   "file_extension": ".py",
   "mimetype": "text/x-python",
   "name": "python",
   "nbconvert_exporter": "python",
   "pygments_lexer": "ipython3",
   "version": "3.7.3"
  }
 },
 "nbformat": 4,
 "nbformat_minor": 2
}
